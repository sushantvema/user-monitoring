{
 "cells": [
  {
   "cell_type": "code",
   "execution_count": 1,
   "id": "6eaa3198-ce1c-4f7d-847a-390f0711426f",
   "metadata": {},
   "outputs": [],
   "source": [
    "import pandas as pd\n",
    "import numpy as np\n",
    "import gzip\n",
    "import csv\n",
    "import os"
   ]
  },
  {
   "cell_type": "code",
   "execution_count": 2,
   "id": "a0448a9a-c5d5-46c7-a741-26abd6f257c5",
   "metadata": {},
   "outputs": [
    {
     "data": {
      "text/plain": [
       "'\\n\\nCREATE DATABASE User_Monitoring;\\n\\nUSE User_Monitoring;\\n\\nCREATE TABLE ucs (\\n\\tuuid CHAR,\\n    score DECIMAL(6,5) NOT NULL\\n);\\n\\ndesc UCS;\\n\\nSELECT * FROM UCS;\\n\\n----------------\\nCREATE TABLE task_scores (\\n\\tts TIMESTAMP,\\n    quiz_task_uuid INT,\\n    user_uuid INT,\\n    task_score DECIMAL(6,5)\\n);\\n\\ndesc task_scores;\\n\\nSELECT * FROM task_scores;\\n\\n\\n----------------\\nCREATE TABLE datahunt_tracker (\\n\\tdatahunt_id INT,\\n    num_rows_processed INT\\n);\\n\\ndesc datahunt_tracker;\\n\\nSELECT * FROM datahunt_tracker;\\n\\n\\n'"
      ]
     },
     "execution_count": 2,
     "metadata": {},
     "output_type": "execute_result"
    }
   ],
   "source": [
    "# Use the following SQL code in MySQL Workbench in order to create the following tables in the User_Monitoring database:\n",
    "# 1) ucs: two fields [uuid, score] --> [user's unique identifier, and their current UCS score]\n",
    "# 2) task_scores: four fields [ts, quiz_task_uuid, user_uuid, task_score] -->\n",
    "#                             [time stamp, task identifier, user's unique identifier, task_score]\n",
    "# 3) datahunt_tracker: two fields [datahunt_id, num_rows_processed] --> \n",
    "#                                 [datahunt's unique id, number of rows in the datahunt that we processed already]\n",
    "\"\"\"\n",
    "\n",
    "CREATE DATABASE User_Monitoring;\n",
    "\n",
    "USE User_Monitoring;\n",
    "\n",
    "CREATE TABLE ucs (\n",
    "\tuuid CHAR,\n",
    "    score DECIMAL(6,5) NOT NULL\n",
    ");\n",
    "\n",
    "desc UCS;\n",
    "\n",
    "SELECT * FROM UCS;\n",
    "\n",
    "----------------\n",
    "CREATE TABLE task_scores (\n",
    "\tts TIMESTAMP,\n",
    "    quiz_task_uuid INT,\n",
    "    user_uuid INT,\n",
    "    task_score DECIMAL(6,5)\n",
    ");\n",
    "\n",
    "desc task_scores;\n",
    "\n",
    "SELECT * FROM task_scores;\n",
    "\n",
    "\n",
    "----------------\n",
    "CREATE TABLE datahunt_tracker (\n",
    "\tdatahunt_id INT,\n",
    "    num_rows_processed INT\n",
    ");\n",
    "\n",
    "desc datahunt_tracker;\n",
    "\n",
    "SELECT * FROM datahunt_tracker;\n",
    "\n",
    "\n",
    "\"\"\""
   ]
  },
  {
   "cell_type": "code",
   "execution_count": 3,
   "id": "ed42d39a-b0d7-4bf6-8cda-92aca628d077",
   "metadata": {},
   "outputs": [
    {
     "name": "stdout",
     "output_type": "stream",
     "text": [
      "Collecting package metadata (current_repodata.json): done\n",
      "Solving environment: done\n",
      "\n",
      "## Package Plan ##\n",
      "\n",
      "  environment location: /Users/sashikanth/opt/anaconda3\n",
      "\n",
      "  added / updated specs:\n",
      "    - pymysql\n",
      "\n",
      "\n",
      "The following packages will be SUPERSEDED by a higher-priority channel:\n",
      "\n",
      "  conda              conda-forge::conda-4.12.0-py38h50d173~ --> pkgs/main::conda-4.12.0-py38hecd8cb5_0\n",
      "\n",
      "\n",
      "Preparing transaction: done\n",
      "Verifying transaction: done\n",
      "Executing transaction: done\n",
      "Collecting package metadata (current_repodata.json): done\n",
      "Solving environment: done\n",
      "\n",
      "## Package Plan ##\n",
      "\n",
      "  environment location: /Users/sashikanth/opt/anaconda3\n",
      "\n",
      "  added / updated specs:\n",
      "    - tqdm\n",
      "\n",
      "\n",
      "The following packages will be SUPERSEDED by a higher-priority channel:\n",
      "\n",
      "  conda              pkgs/main::conda-4.12.0-py38hecd8cb5_0 --> conda-forge::conda-4.12.0-py38h50d1736_0\n",
      "\n",
      "\n",
      "Preparing transaction: done\n",
      "Verifying transaction: done\n",
      "Executing transaction: done\n",
      "\n",
      "Usage:   \n",
      "  pip install [options] <requirement specifier> [package-index-options] ...\n",
      "  pip install [options] -r <requirements file> [package-index-options] ...\n",
      "  pip install [options] [-e] <vcs project url> ...\n",
      "  pip install [options] [-e] <local project path> ...\n",
      "  pip install [options] <archive url/path> ...\n",
      "\n",
      "no such option: --yes\n",
      "Enabling notebook extension jupyter-js-widgets/extension...\n",
      "      - Validating: \u001b[32mOK\u001b[0m\n",
      "Building jupyterlab assets (production, minimized)\n"
     ]
    }
   ],
   "source": [
    "# Install pymysql in the current Jupyter kernel\n",
    "import sys\n",
    "!conda install --yes --prefix {sys.prefix} pymysql\n",
    "# !pip install -t $PWD pymysql\n",
    "import pymysql\n",
    "import time\n",
    "!conda install --yes -c conda-forge tqdm\n",
    "!pip install --yes ipywidgets\n",
    "!jupyter nbextension enable --py widgetsnbextension\n",
    "!jupyter labextension install @jupyter-widgets/jupyterlab-manager \n",
    "from tqdm.notebook import tqdm, trange\n",
    "# 1. Install pymysql to local directory\n",
    "# pip install -t $PWD pymysql\n",
    "\n",
    "# 2. Write code, then zip it up\n",
    "\n",
    "# Lambda Permissions:\n",
    "# AWSLambdaVPCAccessExecutionRole"
   ]
  },
  {
   "cell_type": "code",
   "execution_count": 4,
   "id": "19ce1ff8-e614-4f87-bbb7-ee4548d8e8f5",
   "metadata": {},
   "outputs": [],
   "source": [
    "# Configuration Files\n",
    "endpoint = 'user-monitoring-database.crnwwfmibeif.us-west-1.rds.amazonaws.com'\n",
    "username = 'admin'\n",
    "password = 'user_monitoring'\n",
    "database_name = 'User_Monitoring'\n",
    "\n",
    "# Connection\n",
    "connection = pymysql.connect(\n",
    "    host=endpoint, user=username, passwd=password, db=database_name)"
   ]
  },
  {
   "cell_type": "code",
   "execution_count": 5,
   "id": "ca5c41db-48ba-40e9-947f-1cd32193439f",
   "metadata": {},
   "outputs": [],
   "source": [
    "def lambda_handler(event=None, context=None):\n",
    "    insert_into_table(event['table'])\n",
    "\n",
    "def table_to_df(table):\n",
    "    cursor = connection.cursor()\n",
    "    cursor.execute('SELECT * from {}'.format(table))\n",
    "    rows = cursor.fetchall()\n",
    "    field_names = [i[0] for i in cursor.description]\n",
    "    df = pd.DataFrame(columns=field_names)\n",
    "    for row in rows:\n",
    "        df.loc[len(df.index)] = row\n",
    "    return df\n",
    "    cursor.close()\n",
    "\n",
    "def display_table(table):\n",
    "    df = table_to_df(table)\n",
    "    print(table)\n",
    "    display(df)\n",
    "\n",
    "def table_to_csv(table):\n",
    "    df = table_to_df(table)\n",
    "    df.to_csv(f'{table}.csv', index=False)\n",
    "\n",
    "def insert_into_table(table, df):\n",
    "    \"\"\"\n",
    "    TODO: modify function to be dynamic. take in table name to insert into as well\n",
    "          as dataframe to add into the selected table. add data validation to make sure\n",
    "          df is correctly formatted for table\n",
    "    \"\"\"\n",
    "    cursor = connection.cursor()\n",
    "    mysql_query = None\n",
    "    if table == \"ucs\":\n",
    "        # df columns: 'contributor_uuid, score'\n",
    "        \n",
    "        insert_ucs = \"INSERT INTO `ucs` (`uuid`, `score`) VALUES (%s, %s)\"\n",
    "        def ucs_query(row):\n",
    "            data_ucs = (row['contributor_uuid'], row['score'])\n",
    "            cursor.execute(insert_ucs, data_ucs)\n",
    "            return row\n",
    "        mysql_query = ucs_query\n",
    "        \n",
    "        # cursor.execute('SELECT * from ucs')\n",
    "    elif table == \"task_scores\":\n",
    "        # df columns: 'quiz_task_uuid, contributor_uuid, score'\n",
    "        task_scores = table_to_df('task_scores').iloc[:, [1,2,3]]\n",
    "        merged = pd.merge(df, task_scores, how='inner')\n",
    "        if len(merged) > 0:\n",
    "            print('overlap, merged table:')\n",
    "            display(merged)\n",
    "            return\n",
    "        \n",
    "        insert_task_scores = \"INSERT INTO task_scores (ts, quiz_task_uuid, user_uuid, task_score) VALUES (%s, %s, %s, %s)\"  \n",
    "        def task_scores_query(row):\n",
    "            ts = time.strftime(\"%Y-%m-%d %H:%M:%S\")\n",
    "            quiz_task_uuid = row['quiz_task_uuid']\n",
    "            contributor_uuid = row['contributor_uuid']\n",
    "            score = row['score']\n",
    "            data_task_scores = (ts, quiz_task_uuid, contributor_uuid, score)\n",
    "            cursor.execute(insert_task_scores, data_task_scores)\n",
    "            return row\n",
    "        mysql_query = task_scores_query\n",
    "        \n",
    "        # cursor.execute('SELECT * from task_scores')\n",
    "    elif table == \"datahunt_tracker\":\n",
    "        # df columns: 'datahunt_id, num_rows_processed'\n",
    "        \n",
    "        insert_datahunt_tracker = \"INSERT INTO datahunt_tracker (datahunt_id, num_rows_processed) VALUES (%s, %s)\"\n",
    "        def datahunt_tracker_query(row):\n",
    "            datahunt_id = row['datahunt_id']\n",
    "            num_rows_processed = row['num_rows_processed']\n",
    "            data_datahunt_tracker = (datahunt_id, num_rows_processed)\n",
    "            cursor.execute(insert_datahunt_tracker, data_datahunt_tracker)\n",
    "            return row\n",
    "        \n",
    "        # cursor.execute('SELECT * from datahunt_tracker')\n",
    "    \n",
    "    # run the appropriate query on each row of the given dataframe\n",
    "    df = df.apply(mysql_query, axis=1)\n",
    "    connection.commit()\n",
    "    display_table(table)\n",
    "    cursor.close()\n",
    "\n",
    "def clear_table(table):\n",
    "    cursor = connection.cursor()\n",
    "    if table == 'ucs':\n",
    "        truncate = \"TRUNCATE TABLE `ucs`\"\n",
    "    elif table == 'task_scores':\n",
    "        truncate = \"TRUNCATE TABLE `task_scores`\"\n",
    "    elif table == 'datahunt_tracker':\n",
    "        truncate = \"TRUNCATE TABLE `datahunt_tracker`\"\n",
    "    cursor.execute(truncate)\n",
    "    display_table(table)\n",
    "    connection.commit()\n",
    "    cursor.close()\n",
    "    \n",
    "def create_table(table):\n",
    "    cursor = connection.cursor()\n",
    "    if table == 'ucs':\n",
    "        create = \"CREATE TABLE `ucs` (`uuid` TINYTEXT, `score` DECIMAL(6,5) NOT NULL)\"\n",
    "    elif table == 'task_scores':\n",
    "        create = \"CREATE TABLE `task_scores` ( \\\n",
    "                                `ts` TIMESTAMP, \\\n",
    "                                `quiz_task_uuid` INT, \\\n",
    "                                `user_uuid` TINYTEXT, \\\n",
    "                                `task_score` DECIMAL(6,5) \\\n",
    "                                )\"\n",
    "    elif table == 'datahunt_tracker':\n",
    "        create = \"CREATE TABLE `datahunt_tracker` ( \\\n",
    "                                `datahunt_id` TINYTEXT, \\\n",
    "                                `num_rows_processed` INT \\\n",
    "                                )\"\n",
    "        \n",
    "    cursor.execute(create)\n",
    "    display_table(table)\n",
    "    connection.commit()\n",
    "    cursor.close()\n",
    "\n",
    "def remake_table(table):\n",
    "    cursor = connection.cursor()\n",
    "    if table == 'ucs':\n",
    "        drop = \"DROP TABLE `ucs`\"\n",
    "        create = \"CREATE TABLE `ucs` (`uuid` TINYTEXT, `score` DECIMAL(6,5) NOT NULL)\"\n",
    "    elif table == 'task_scores':\n",
    "        drop = \"DROP TABLE `task_scores`\"\n",
    "        create = \"CREATE TABLE `task_scores` ( \\\n",
    "                                `ts` TIMESTAMP, \\\n",
    "                                `quiz_task_uuid` TINYTEXT, \\\n",
    "                                `user_uuid` TINYTEXT, \\\n",
    "                                `task_score` DECIMAL(6,5) \\\n",
    "                                )\"\n",
    "    elif table == 'datahunt_tracker':\n",
    "        drop = \"DROP TABLE `datahunt_tracker`\"\n",
    "        create = \"CREATE TABLE `datahunt_tracker` ( \\\n",
    "                                `datahunt_id` TINYTEXT, \\\n",
    "                                `num_rows_processed` INT \\\n",
    "                                )\"\n",
    "        \n",
    "    cursor.execute(drop)\n",
    "    cursor.execute(create)\n",
    "    display_table(table)\n",
    "    connection.commit()\n",
    "    cursor.close()\n",
    "    \n",
    "def remake_all_tables():\n",
    "    remake_table('ucs')\n",
    "    remake_table('task_scores')\n",
    "    remake_table('datahunt_tracker')\n",
    "    connection.commit()\n"
   ]
  },
  {
   "cell_type": "markdown",
   "id": "6436e0b4-dd04-4194-ae9a-605350fcbc4d",
   "metadata": {},
   "source": [
    "### Function to load in data from /evidence_eric"
   ]
  },
  {
   "cell_type": "code",
   "execution_count": 6,
   "id": "d47edad8-4648-48d3-9550-dccb15d4a625",
   "metadata": {},
   "outputs": [],
   "source": [
    "def load_data(filename):\n",
    "    df = pd.read_csv(filename)\n",
    "    return df"
   ]
  },
  {
   "cell_type": "markdown",
   "id": "75a5fc66-91a7-48e3-9f3a-b8605da34ea7",
   "metadata": {
    "tags": []
   },
   "source": [
    "### Creating Task Scores\n",
    "This part of the notebook will include steps 2 and 3 from the User Monitoring Pipeline, which includes identifying the consensus answer from the IAA and Gold Standard data (step 2) and creating the corresponding task scores for users who completed this task (step 3)."
   ]
  },
  {
   "cell_type": "markdown",
   "id": "1eb44c05-5bae-4b56-898f-009ce9d0399a",
   "metadata": {
    "tags": []
   },
   "source": [
    "### Pulling in all the data for a given annotation module (4/3 demo)"
   ]
  },
  {
   "cell_type": "code",
   "execution_count": 32,
   "id": "4bef0377-2882-4e5b-8113-8ea83c2fdcaa",
   "metadata": {},
   "outputs": [
    {
     "data": {
      "application/vnd.jupyter.widget-view+json": {
       "model_id": "0fdd38459cca4e7a849babef9e4809e8",
       "version_major": 2,
       "version_minor": 0
      },
      "text/plain": [
       "  0%|          | 0/27 [00:00<?, ?it/s]"
      ]
     },
     "metadata": {},
     "output_type": "display_data"
    },
    {
     "data": {
      "application/vnd.jupyter.widget-view+json": {
       "model_id": "8292354d41e94f04b6c805ae91c02c74",
       "version_major": 2,
       "version_minor": 0
      },
      "text/plain": [
       "  0%|          | 0/27 [00:00<?, ?it/s]"
      ]
     },
     "metadata": {},
     "output_type": "display_data"
    },
    {
     "data": {
      "application/vnd.jupyter.widget-view+json": {
       "model_id": "dbecbe10daf842ceb3535d2a81f15414",
       "version_major": 2,
       "version_minor": 0
      },
      "text/plain": [
       "  0%|          | 0/27 [00:00<?, ?it/s]"
      ]
     },
     "metadata": {},
     "output_type": "display_data"
    },
    {
     "data": {
      "application/vnd.jupyter.widget-view+json": {
       "model_id": "61189053c6f244ceb251e65e7cd4f0b9",
       "version_major": 2,
       "version_minor": 0
      },
      "text/plain": [
       "  0%|          | 0/27 [00:00<?, ?it/s]"
      ]
     },
     "metadata": {},
     "output_type": "display_data"
    },
    {
     "data": {
      "application/vnd.jupyter.widget-view+json": {
       "model_id": "5994e76c9e914337a3a1356b76bbbbac",
       "version_major": 2,
       "version_minor": 0
      },
      "text/plain": [
       "  0%|          | 0/27 [00:00<?, ?it/s]"
      ]
     },
     "metadata": {},
     "output_type": "display_data"
    },
    {
     "data": {
      "application/vnd.jupyter.widget-view+json": {
       "model_id": "a737493991f84dfca8132dc8dd8f70fe",
       "version_major": 2,
       "version_minor": 0
      },
      "text/plain": [
       "  0%|          | 0/27 [00:00<?, ?it/s]"
      ]
     },
     "metadata": {},
     "output_type": "display_data"
    }
   ],
   "source": [
    "data_directory = './evidence_eric'\n",
    "directory = os.listdir(data_directory)\n",
    "\n",
    "module_names = [\"Covid_ArgumentRelevance\", \"Covid_Evidence\", \"Covid_Language\", \n",
    "                \"Covid_Probability\", \"Covid_Reasoning\", \"Covid_SourceRelevance\"]\n",
    "\n",
    "module_filemap = {}\n",
    "\n",
    "def get_module_files(module_name):\n",
    "    files = []\n",
    "    for fname in tqdm(directory):\n",
    "        if os.path.isfile(data_directory + os.sep + fname):\n",
    "            # Full path\n",
    "            if module_name in fname:\n",
    "                files.append(data_directory + os.sep + fname)\n",
    "    return files\n",
    "\n",
    "for module_name in module_names:\n",
    "    module_filemap[module_name] = get_module_files(module_name)"
   ]
  },
  {
   "cell_type": "code",
   "execution_count": 33,
   "id": "34914827-13b3-4250-b066-227107aae27a",
   "metadata": {},
   "outputs": [
    {
     "data": {
      "text/plain": [
       "{'Covid_ArgumentRelevance': ['./evidence_eric/Covid_ArgumentRelevance_2020_03_20v2-Schema.csv.gz',\n",
       "  './evidence_eric/Covid_ArgumentRelevancev1.2-2022-04-01T1937-DataHunt.csv.gz',\n",
       "  './evidence_eric/Covid_ArgumentRelevancev1.2.IAA-2022-04-01T1941-Tags.csv.gz'],\n",
       " 'Covid_Evidence': ['./evidence_eric/Covid_Evidencev1.IAA-2022-04-01T1941-Tags.csv_d3Hj2qg.gz',\n",
       "  './evidence_eric/Covid_Evidencev1-2022-04-01T1937-DataHunt.csv.gz',\n",
       "  './evidence_eric/Covid_Evidence2020_03_21-Schema.csv.gz'],\n",
       " 'Covid_Language': ['./evidence_eric/Covid_Languagev1.1-2022-04-01T1938-DataHunt.csv.gz',\n",
       "  './evidence_eric/Covid_Languagev1.1-Schema.csv.gz',\n",
       "  './evidence_eric/Covid_Languagev1.1.IAA-2022-04-29T1753-Tags.csv'],\n",
       " 'Covid_Probability': ['./evidence_eric/Covid_Probabilityv1-2022-04-01T1938-DataHunt.csv.gz',\n",
       "  './evidence_eric/Covid_Probability-Schema.csv.gz',\n",
       "  './evidence_eric/Covid_Probabilityv1.IAA-2022-04-01T1942-Tags.csv.gz'],\n",
       " 'Covid_Reasoning': ['./evidence_eric/Covid_Reasoningv1.IAA-2022-04-03T0254-NegativeTasks.csv',\n",
       "  './evidence_eric/Covid_Reasoningv1.IAA-2022-04-01T1942-Tags.csv.gz',\n",
       "  './evidence_eric/Covid_Reasoningv1-2022-04-01T1939-DataHunt.csv.gz',\n",
       "  './evidence_eric/Covid_Reasoning-Schema.csv'],\n",
       " 'Covid_SourceRelevance': ['./evidence_eric/Covid_SourceRelevancev1-2022-04-01T0047-DataHuntByCase.csv',\n",
       "  './evidence_eric/Covid_SourceRelevancev1_2002_03_20v2.1-Schema.csv',\n",
       "  './evidence_eric/Covid_SourceRelevancev1.IAA-2022-04-10T1748-Tags.csv',\n",
       "  './evidence_eric/Covid_SourceRelevancev1.IAA-2022-04-10T1748-NegativeTasks.csv']}"
      ]
     },
     "execution_count": 33,
     "metadata": {},
     "output_type": "execute_result"
    }
   ],
   "source": [
    "module_filemap"
   ]
  },
  {
   "cell_type": "markdown",
   "id": "110f5512-e504-4232-aa97-1549c1284f86",
   "metadata": {
    "tags": []
   },
   "source": [
    "# NOTE THIS IS FOR SUSHANT'S LAPTOP, FILE ORDER MAY BE DIFFERENT FOR OTHER LAPTOPS SO DOUBLE CHECK THE MODULE FILEMAP"
   ]
  },
  {
   "cell_type": "code",
   "execution_count": 34,
   "id": "c70bc91b-8546-404c-a478-a75135a5f4f1",
   "metadata": {},
   "outputs": [],
   "source": [
    "ArgumentDH = load_data(module_filemap['Covid_ArgumentRelevance'][1])\n",
    "ArgumentIAA = load_data(module_filemap['Covid_ArgumentRelevance'][2])\n",
    "ArgumentSchema = load_data(module_filemap['Covid_ArgumentRelevance'][0])\n",
    "# ArgumentTemp = ArgumentSchema.loc[:, [\"answer_uuid\", \"answer_label\"]]\n",
    "EvidenceIAA  = load_data(module_filemap[\"Covid_Evidence\"][0])\n",
    "EvidenceDH  = load_data(module_filemap[\"Covid_Evidence\"][1])\n",
    "EvidenceSchema = load_data(module_filemap[\"Covid_Evidence\"][2])\n",
    "# EvidenceTemp = EvidenceSchema.loc[:, [\"answer_uuid\", \"answer_label\"]]\n",
    "LanguageIAA = load_data(module_filemap[\"Covid_Language\"][2])\n",
    "LanguageDH = load_data(module_filemap[\"Covid_Language\"][0])\n",
    "LanguageSchema = load_data(module_filemap[\"Covid_Language\"][1])\n",
    "# LanguageTemp = LanguageSchema.loc[:, [\"answer_uuid\", \"answer_label\"]]\n",
    "ProbabilityDH = load_data(module_filemap[\"Covid_Probability\"][0])\n",
    "ProbabilityIAA = load_data(module_filemap[\"Covid_Probability\"][2])\n",
    "ProbabilitySchema = load_data(module_filemap[\"Covid_Probability\"][1])\n",
    "# ProbabilityTemp = ProbabilitySchema.loc[:, [\"answer_uuid\", \"answer_label\"]]\n",
    "ReasoningIAA = load_data(module_filemap[\"Covid_Reasoning\"][1])\n",
    "ReasoningDH = load_data(module_filemap[\"Covid_Reasoning\"][2])\n",
    "ReasoningSchema = load_data(module_filemap[\"Covid_Reasoning\"][3])\n",
    "# ReasoningTemp = ReasoningSchema.loc[:, [\"answer_uuid\", \"answer_label\"]]\n",
    "SourceDH = load_data(module_filemap[\"Covid_SourceRelevance\"][0])\n",
    "SourceIAA = load_data(module_filemap[\"Covid_SourceRelevance\"][2])\n",
    "SourceSchema = load_data(module_filemap[\"Covid_SourceRelevance\"][1])\n",
    "# SourceTemp = SourceSchema.loc[:, [\"answer_uuid\", \"answer_label\"]]"
   ]
  },
  {
   "cell_type": "code",
   "execution_count": 35,
   "id": "d1d4fecc-34e2-4f4c-a1e6-5e68f2f1d695",
   "metadata": {},
   "outputs": [],
   "source": [
    "#returning new IAA file with question number and agreed answer\n",
    "def merge_iaa_schema(iaa, schema):\n",
    "    temp_schema = schema.loc[:, [\"answer_uuid\", \"answer_label\"]]\n",
    "    temp = iaa.merge(temp_schema, how = \"left\", on = \"answer_uuid\")\n",
    "    answer = pd.DataFrame(temp[\"answer_label\"].str.split(\".\", expand = True)).iloc[:,2].str[1:]\n",
    "    question = pd.DataFrame(temp[\"answer_label\"].str.split(\".\", expand = True)).iloc[:,1].str[1:]\n",
    "    temp[\"question_Number\"] = question.astype(int)\n",
    "    temp[\"agreed_Answer\"] = answer.astype(int)\n",
    "    return temp"
   ]
  },
  {
   "cell_type": "code",
   "execution_count": 38,
   "id": "aae80656-c8b8-4c21-a4c6-54210b55ff18",
   "metadata": {},
   "outputs": [],
   "source": [
    "ArgumentFinal = merge_iaa_schema(ArgumentIAA, ArgumentSchema)\n",
    "EvidenceFinal = merge_iaa_schema(EvidenceIAA, EvidenceSchema)\n",
    "LanguageFinal = merge_iaa_schema(LanguageIAA, LanguageSchema)\n",
    "ProbabilityFinal = merge_iaa_schema(ProbabilityIAA, ProbabilitySchema)\n",
    "ReasoningFinal = merge_iaa_schema(ReasoningIAA, ReasoningSchema)\n",
    "SourceFinal = merge_iaa_schema(SourceIAA, SourceSchema)"
   ]
  },
  {
   "cell_type": "markdown",
   "id": "2a0a3546-04a9-4464-8daf-e15c94bcfe2c",
   "metadata": {
    "tags": []
   },
   "source": [
    "# START FROM HERE TO UPDATE TABLES (RUN REMAKE IN BETWEEN UPDATES IF WANTED)"
   ]
  },
  {
   "cell_type": "code",
   "execution_count": 13,
   "id": "bfff895a-9c16-4b02-aea4-b57cbde9f4d2",
   "metadata": {},
   "outputs": [
    {
     "name": "stdout",
     "output_type": "stream",
     "text": [
      "ucs\n"
     ]
    },
    {
     "data": {
      "text/html": [
       "<div>\n",
       "<style scoped>\n",
       "    .dataframe tbody tr th:only-of-type {\n",
       "        vertical-align: middle;\n",
       "    }\n",
       "\n",
       "    .dataframe tbody tr th {\n",
       "        vertical-align: top;\n",
       "    }\n",
       "\n",
       "    .dataframe thead th {\n",
       "        text-align: right;\n",
       "    }\n",
       "</style>\n",
       "<table border=\"1\" class=\"dataframe\">\n",
       "  <thead>\n",
       "    <tr style=\"text-align: right;\">\n",
       "      <th></th>\n",
       "      <th>uuid</th>\n",
       "      <th>score</th>\n",
       "    </tr>\n",
       "  </thead>\n",
       "  <tbody>\n",
       "  </tbody>\n",
       "</table>\n",
       "</div>"
      ],
      "text/plain": [
       "Empty DataFrame\n",
       "Columns: [uuid, score]\n",
       "Index: []"
      ]
     },
     "metadata": {},
     "output_type": "display_data"
    },
    {
     "name": "stdout",
     "output_type": "stream",
     "text": [
      "task_scores\n"
     ]
    },
    {
     "data": {
      "text/html": [
       "<div>\n",
       "<style scoped>\n",
       "    .dataframe tbody tr th:only-of-type {\n",
       "        vertical-align: middle;\n",
       "    }\n",
       "\n",
       "    .dataframe tbody tr th {\n",
       "        vertical-align: top;\n",
       "    }\n",
       "\n",
       "    .dataframe thead th {\n",
       "        text-align: right;\n",
       "    }\n",
       "</style>\n",
       "<table border=\"1\" class=\"dataframe\">\n",
       "  <thead>\n",
       "    <tr style=\"text-align: right;\">\n",
       "      <th></th>\n",
       "      <th>ts</th>\n",
       "      <th>quiz_task_uuid</th>\n",
       "      <th>user_uuid</th>\n",
       "      <th>task_score</th>\n",
       "    </tr>\n",
       "  </thead>\n",
       "  <tbody>\n",
       "  </tbody>\n",
       "</table>\n",
       "</div>"
      ],
      "text/plain": [
       "Empty DataFrame\n",
       "Columns: [ts, quiz_task_uuid, user_uuid, task_score]\n",
       "Index: []"
      ]
     },
     "metadata": {},
     "output_type": "display_data"
    },
    {
     "name": "stdout",
     "output_type": "stream",
     "text": [
      "datahunt_tracker\n"
     ]
    },
    {
     "data": {
      "text/html": [
       "<div>\n",
       "<style scoped>\n",
       "    .dataframe tbody tr th:only-of-type {\n",
       "        vertical-align: middle;\n",
       "    }\n",
       "\n",
       "    .dataframe tbody tr th {\n",
       "        vertical-align: top;\n",
       "    }\n",
       "\n",
       "    .dataframe thead th {\n",
       "        text-align: right;\n",
       "    }\n",
       "</style>\n",
       "<table border=\"1\" class=\"dataframe\">\n",
       "  <thead>\n",
       "    <tr style=\"text-align: right;\">\n",
       "      <th></th>\n",
       "      <th>datahunt_id</th>\n",
       "      <th>num_rows_processed</th>\n",
       "    </tr>\n",
       "  </thead>\n",
       "  <tbody>\n",
       "  </tbody>\n",
       "</table>\n",
       "</div>"
      ],
      "text/plain": [
       "Empty DataFrame\n",
       "Columns: [datahunt_id, num_rows_processed]\n",
       "Index: []"
      ]
     },
     "metadata": {},
     "output_type": "display_data"
    }
   ],
   "source": [
    "remake_all_tables()"
   ]
  },
  {
   "cell_type": "code",
   "execution_count": 16,
   "id": "f564b126-3945-40ed-8d71-7607ca954f70",
   "metadata": {},
   "outputs": [],
   "source": [
    "# ucs function that reads accepts values from a csv and a current user's ucs score\n",
    "def ucs_update_score(user_id):\n",
    "    def logistic(x, k, offset):\n",
    "        return 1 / (1 + np.e**(-k * (x - offset)))   \n",
    "    \n",
    "    cursor = connection.cursor()\n",
    "    task_scores = table_to_df('task_scores')\n",
    "    task_scores = task_scores[task_scores['user_uuid'] == user_id]['task_score'].astype('float')\n",
    "#     print('task_scores:', task_scores)\n",
    "    last_task_score = task_scores.iloc[-1]\n",
    "    \n",
    "    a = 1000\n",
    "    num_task_scores = len(task_scores)\n",
    "    n = min(10, int(np.sqrt(num_task_scores)) + 1)\n",
    "    ucs = table_to_df('ucs')\n",
    "    \n",
    "    if user_id not in ucs['uuid']: # if this is the user's first task\n",
    "        cur_ucs = 0.5\n",
    "        var_scores = np.var(task_scores.iloc[-n:])\n",
    "        c = logistic(var_scores / (np.log(num_task_scores + 1) / (np.log(a))), 10, 0.2)\n",
    "        new_ucs = cur_ucs * (1 - c) + (c) * last_task_score\n",
    "        query = \"INSERT INTO `ucs` (`uuid`, `score`) VALUES (%s, %s)\"\n",
    "        cursor.execute(query, (user_id, new_ucs))\n",
    "        connection.commit()\n",
    "    else:\n",
    "#         print('user_id: ', user_id)\n",
    "#         print(ucs[ucs['uuid'] == user_id]['score'].astype('float'))\n",
    "        cur_ucs = ucs[ucs['uuid'] == user_id]['score'].astype('float')[0]\n",
    "        var_scores = np.var(task_scores.iloc[-n:])\n",
    "        c = logistic(var_scores / (np.log(num_task_scores + 1) / (np.log(a))), 10, 0.2)\n",
    "        new_ucs = cur_ucs * (1 - c) + (c) * last_task_score\n",
    "        query = \"UPDATE `ucs` SET `score` = %s WHERE `uuid` = %s\"\n",
    "        cursor.execute(query, (new_ucs, user_id))\n",
    "        connection.commit()\n",
    "    cursor.close()\n",
    "    "
   ]
  },
  {
   "cell_type": "code",
   "execution_count": 15,
   "id": "409c9aa5-0759-4a9b-af63-b409be8daa5d",
   "metadata": {},
   "outputs": [],
   "source": [
    "def get_answer(question, answer_source, consensus_answers):\n",
    "    \"\"\"\n",
    "    Take in the question and the answer_source, either IAA or Adjudicated / Gold Standard, and adds the\n",
    "    converged consensus answer to the consensus_answer answer key. This will be an single\n",
    "    int for select_one questions, or a list of ints for select_all questions.\n",
    "    \"\"\"\n",
    "    question_type = question_schema[question]['type']\n",
    "    \n",
    "    if question_type == 'select_one_nominal' or question_type == 'select_one_ordinal':\n",
    "        # assert len(answer_source[answer_source.question_Number == question].agreed_Answer) == 1\n",
    "        consensus_answers[question] = answer_source[answer_source.question_Number == question].agreed_Answer.iloc[0]\n",
    "    elif question_type == 'select_all':\n",
    "        consensus_answers[question] = list(answer_source[answer_source.question_Number == question].agreed_Answer)\n",
    "    else:\n",
    "        raise ValueError('Invalid question type')\n",
    "    \n",
    "    return consensus_answers\n",
    "\n",
    "def score_task(iaa_file, adj_file, schema, dh_file):\n",
    "    # adj_file takes priority\n",
    "    if adj_file != None:\n",
    "        file = adj_file\n",
    "    else:\n",
    "        file = iaa_file\n",
    "    \n",
    "    # cleaning invalid rows in file\n",
    "    file = file[file.answer_uuid.str.len() > 3]\n",
    "    \n",
    "    # these are the only relevant columns for scoring for now, notice highlight data is not included here\n",
    "    cols = ['answer_uuid', 'question_Number', 'agreed_Answer']\n",
    "    \n",
    "    # getting rid of some rows where the above columns were the same, this may represent different \n",
    "    # highlights for the same question and answer?\n",
    "    file = file[cols].drop_duplicates()\n",
    "    \n",
    "    consensus_answers = {}\n",
    "\n",
    "    # create a set of questions that the IAA data determined converged to a consensus\n",
    "    file_consensus_questions = set(file.question_Number)\n",
    "\n",
    "    # uses get_answer function to fill in the consensus_answers answer key\n",
    "    for question in scored_questions:\n",
    "        if question in file_consensus_questions:\n",
    "            consensus_answers = get_answer(question, file, consensus_answers)\n",
    "        else:\n",
    "            consensus_answers[question] = -1\n",
    "            \n",
    "    # return consensus_answers\n",
    "    \n",
    "    # narrow down the datahunt to the relevant columns for scoring, getting rid of some rows\n",
    "    # where the data for the below columns were the same, this may represent different highlights \n",
    "    # for the same question and answer? not certain.\n",
    "    dh = dh_file[['contributor_uuid', 'question_label', 'answer_label']].drop_duplicates()\n",
    "\n",
    "    # the question and answer labels in the datahunt are in the form 'T1.QX' and 'T1.QX.AX'\n",
    "    # the below lines strip down to only question number and answer number\n",
    "    dh['question_label'] = dh['question_label'].str.split('Q').str[1].astype(int)\n",
    "    dh['answer_label'] = dh['answer_label'].str.split('A').str[1]\n",
    "    \n",
    "    # we want to groupby contributor_uuid and question_label to get all the answers a user\n",
    "    # selected for a particular question, to account for select_all questions. Now, the\n",
    "    # granularity of df_grouped will be one row per contributor answering a question.\n",
    "    dh_grouped = dh.groupby(['contributor_uuid', 'question_label']).agg(list).reset_index()\n",
    "    \n",
    "    # we only want to score the rows with scored questions (not survey questions like 13 and 14)\n",
    "    # so we'll filter those out\n",
    "    dh_grouped = dh_grouped[dh_grouped.question_label.isin(scored_questions)]\n",
    "    \n",
    "    def scoring_select_one_nominal(question, answer):\n",
    "        \"\"\"\n",
    "        Takes in a question and the selected answer, returns a score of 0 if the consensus \n",
    "        answer is different, and 1 if the consensus answer is the same.\n",
    "        \"\"\"\n",
    "        consensus_answer = int(consensus_answers[question])\n",
    "        return int(consensus_answer == answer)\n",
    "    \n",
    "    def scoring_select_one_ordinal(question, answer):\n",
    "        \"\"\"\n",
    "        Takes in a question and the selected answer, returns a score between 0 and 1 depending\n",
    "        on how far off the answer is from the consensus answer.\n",
    "        \"\"\"\n",
    "        consensus_answer = int(consensus_answers[question])\n",
    "        num_choices = question_schema[question]['num_choices']\n",
    "        return 1 - (abs(answer - consensus_answer) / num_choices)\n",
    "    \n",
    "    def scoring_select_all(question, answer_list):\n",
    "        \"\"\"\n",
    "        Takes in a question and the selected answer, returns a score between 0 and 1 depending\n",
    "        on the accuracy ((True Positive + True Negative) / Total) of the answer selections\n",
    "        compared to the consensus answer selections.\n",
    "        \"\"\"\n",
    "        answer_set = set(answer_list)\n",
    "        consensus_answer_set = set(consensus_answers[question])\n",
    "        num_choices = question_schema[question]['num_choices']\n",
    "\n",
    "        total_correct = 0\n",
    "        for answer in range(1, num_choices+1):\n",
    "            if (answer in answer_set) and (answer in consensus_answer_set):\n",
    "                total_correct += 1\n",
    "            elif (answer not in answer_set) and (answer not in consensus_answer_set):\n",
    "                total_correct += 1\n",
    "            else:\n",
    "                total_correct += 0\n",
    "\n",
    "        return total_correct / num_choices\n",
    "    \n",
    "    def scoring(row):\n",
    "        \"\"\"\n",
    "        This is a Pandas apply function, to be applied on axis=1 (on each row).\n",
    "        Makes a call to one of scoring_select_one_nominal, scoring_select_one_ordinal, and\n",
    "        scoring_select_all depending on the type of question, returns the outputted score.\n",
    "\n",
    "        An important note is that right now if neither IAA nor Gold Standard have a consensus\n",
    "        answer for a question, the consensus_answers answer key will contain a -1 for that \n",
    "        question. I currently assume this question should not have been answered due to it\n",
    "        being a child-question from an incorrectly answered parent question, so I score it\n",
    "        \"\"\"\n",
    "        question = int(row['question_label'])\n",
    "        answer_list = [int(i) for i in row['answer_label']]\n",
    "\n",
    "        if consensus_answers[question] == -1:\n",
    "            return 0\n",
    "\n",
    "        question_type = question_schema[question]['type']\n",
    "        if question_type == 'select_one_nominal':\n",
    "            return scoring_select_one_nominal(question, answer_list[0])\n",
    "        elif question_type == 'select_one_ordinal':\n",
    "            return scoring_select_one_ordinal(question, answer_list[0])\n",
    "        elif question_type == 'select_all':\n",
    "            return scoring_select_all(question, answer_list)\n",
    "        else:\n",
    "            raise ValueError('Invalid question type')\n",
    "    \n",
    "    # using the scoring function defined above, we'll create a new column containing the scores\n",
    "    # for each contributor answering a question.\n",
    "    dh_grouped['score'] = dh_grouped.apply(scoring, axis=1)\n",
    "    \n",
    "    # lastly, we want to get the average score for all task responses, this will be their\n",
    "    # task score. this is done by a simple groupby on contributor_uuid and mean() aggregate function\n",
    "    calculated_task_scores = dh_grouped[['contributor_uuid', 'score']].groupby('contributor_uuid').mean().reset_index()\n",
    "    \n",
    "    quiz_task_uuid = dh_file[\"quiz_task_uuid\"][0]\n",
    "    rows_processed = len(dh_file)\n",
    "    \n",
    "    calculated_task_scores['quiz_task_uuid'] = quiz_task_uuid\n",
    "    calculated_task_scores = calculated_task_scores[['quiz_task_uuid', 'contributor_uuid', 'score']]\n",
    "    \n",
    "    insert_into_table('task_scores', calculated_task_scores)\n",
    "    \n",
    "    for user_id in tqdm(calculated_task_scores['contributor_uuid']):\n",
    "        ucs_update_score(user_id)"
   ]
  },
  {
   "cell_type": "markdown",
   "id": "2927401d-679b-4135-b1e6-301092edf811",
   "metadata": {},
   "source": [
    "### EVIDENCE"
   ]
  },
  {
   "cell_type": "code",
   "execution_count": 17,
   "id": "f09a3bc0-9cef-4aaf-a7c3-eca9d5bfcc87",
   "metadata": {},
   "outputs": [
    {
     "name": "stdout",
     "output_type": "stream",
     "text": [
      "task_scores\n"
     ]
    },
    {
     "data": {
      "text/html": [
       "<div>\n",
       "<style scoped>\n",
       "    .dataframe tbody tr th:only-of-type {\n",
       "        vertical-align: middle;\n",
       "    }\n",
       "\n",
       "    .dataframe tbody tr th {\n",
       "        vertical-align: top;\n",
       "    }\n",
       "\n",
       "    .dataframe thead th {\n",
       "        text-align: right;\n",
       "    }\n",
       "</style>\n",
       "<table border=\"1\" class=\"dataframe\">\n",
       "  <thead>\n",
       "    <tr style=\"text-align: right;\">\n",
       "      <th></th>\n",
       "      <th>ts</th>\n",
       "      <th>quiz_task_uuid</th>\n",
       "      <th>user_uuid</th>\n",
       "      <th>task_score</th>\n",
       "    </tr>\n",
       "  </thead>\n",
       "  <tbody>\n",
       "    <tr>\n",
       "      <th>0</th>\n",
       "      <td>2022-05-08 15:27:44</td>\n",
       "      <td>c5df7dbf-85ef-4935-81a7-c24daa809afe</td>\n",
       "      <td>006fc059-a7da-4b18-9989-96a42b7a5522</td>\n",
       "      <td>0.83704</td>\n",
       "    </tr>\n",
       "    <tr>\n",
       "      <th>1</th>\n",
       "      <td>2022-05-08 15:27:44</td>\n",
       "      <td>c5df7dbf-85ef-4935-81a7-c24daa809afe</td>\n",
       "      <td>00c971f7-1860-420b-94e9-7ae1c4353af9</td>\n",
       "      <td>0.91667</td>\n",
       "    </tr>\n",
       "    <tr>\n",
       "      <th>2</th>\n",
       "      <td>2022-05-08 15:27:44</td>\n",
       "      <td>c5df7dbf-85ef-4935-81a7-c24daa809afe</td>\n",
       "      <td>00ca2d0c-d15b-4178-9531-8fcb3f79a06f</td>\n",
       "      <td>0.73611</td>\n",
       "    </tr>\n",
       "    <tr>\n",
       "      <th>3</th>\n",
       "      <td>2022-05-08 15:27:44</td>\n",
       "      <td>c5df7dbf-85ef-4935-81a7-c24daa809afe</td>\n",
       "      <td>00f548b7-6b63-4b47-828e-8e416b6ca0e2</td>\n",
       "      <td>0.63796</td>\n",
       "    </tr>\n",
       "    <tr>\n",
       "      <th>4</th>\n",
       "      <td>2022-05-08 15:27:44</td>\n",
       "      <td>c5df7dbf-85ef-4935-81a7-c24daa809afe</td>\n",
       "      <td>0165b303-0bcc-4f26-85e5-aadb636d3b39</td>\n",
       "      <td>0.77431</td>\n",
       "    </tr>\n",
       "    <tr>\n",
       "      <th>...</th>\n",
       "      <td>...</td>\n",
       "      <td>...</td>\n",
       "      <td>...</td>\n",
       "      <td>...</td>\n",
       "    </tr>\n",
       "    <tr>\n",
       "      <th>453</th>\n",
       "      <td>2022-05-08 15:27:54</td>\n",
       "      <td>c5df7dbf-85ef-4935-81a7-c24daa809afe</td>\n",
       "      <td>fc69434d-daa2-463a-a023-4d52dfb3a59a</td>\n",
       "      <td>0.66508</td>\n",
       "    </tr>\n",
       "    <tr>\n",
       "      <th>454</th>\n",
       "      <td>2022-05-08 15:27:54</td>\n",
       "      <td>c5df7dbf-85ef-4935-81a7-c24daa809afe</td>\n",
       "      <td>fd6f6837-7881-4943-8129-b7ea0f0fe1b6</td>\n",
       "      <td>0.60000</td>\n",
       "    </tr>\n",
       "    <tr>\n",
       "      <th>455</th>\n",
       "      <td>2022-05-08 15:27:54</td>\n",
       "      <td>c5df7dbf-85ef-4935-81a7-c24daa809afe</td>\n",
       "      <td>fee80950-ca94-459d-88b0-9818a8cdb7a3</td>\n",
       "      <td>0.56222</td>\n",
       "    </tr>\n",
       "    <tr>\n",
       "      <th>456</th>\n",
       "      <td>2022-05-08 15:27:54</td>\n",
       "      <td>c5df7dbf-85ef-4935-81a7-c24daa809afe</td>\n",
       "      <td>ff659873-bfba-4da6-94e2-7b91ac8a2c5e</td>\n",
       "      <td>1.00000</td>\n",
       "    </tr>\n",
       "    <tr>\n",
       "      <th>457</th>\n",
       "      <td>2022-05-08 15:27:54</td>\n",
       "      <td>c5df7dbf-85ef-4935-81a7-c24daa809afe</td>\n",
       "      <td>ff6ddf00-b30c-4c22-9b90-46e4d9f48bc3</td>\n",
       "      <td>0.53056</td>\n",
       "    </tr>\n",
       "  </tbody>\n",
       "</table>\n",
       "<p>458 rows × 4 columns</p>\n",
       "</div>"
      ],
      "text/plain": [
       "                     ts                        quiz_task_uuid  \\\n",
       "0   2022-05-08 15:27:44  c5df7dbf-85ef-4935-81a7-c24daa809afe   \n",
       "1   2022-05-08 15:27:44  c5df7dbf-85ef-4935-81a7-c24daa809afe   \n",
       "2   2022-05-08 15:27:44  c5df7dbf-85ef-4935-81a7-c24daa809afe   \n",
       "3   2022-05-08 15:27:44  c5df7dbf-85ef-4935-81a7-c24daa809afe   \n",
       "4   2022-05-08 15:27:44  c5df7dbf-85ef-4935-81a7-c24daa809afe   \n",
       "..                  ...                                   ...   \n",
       "453 2022-05-08 15:27:54  c5df7dbf-85ef-4935-81a7-c24daa809afe   \n",
       "454 2022-05-08 15:27:54  c5df7dbf-85ef-4935-81a7-c24daa809afe   \n",
       "455 2022-05-08 15:27:54  c5df7dbf-85ef-4935-81a7-c24daa809afe   \n",
       "456 2022-05-08 15:27:54  c5df7dbf-85ef-4935-81a7-c24daa809afe   \n",
       "457 2022-05-08 15:27:54  c5df7dbf-85ef-4935-81a7-c24daa809afe   \n",
       "\n",
       "                                user_uuid task_score  \n",
       "0    006fc059-a7da-4b18-9989-96a42b7a5522    0.83704  \n",
       "1    00c971f7-1860-420b-94e9-7ae1c4353af9    0.91667  \n",
       "2    00ca2d0c-d15b-4178-9531-8fcb3f79a06f    0.73611  \n",
       "3    00f548b7-6b63-4b47-828e-8e416b6ca0e2    0.63796  \n",
       "4    0165b303-0bcc-4f26-85e5-aadb636d3b39    0.77431  \n",
       "..                                    ...        ...  \n",
       "453  fc69434d-daa2-463a-a023-4d52dfb3a59a    0.66508  \n",
       "454  fd6f6837-7881-4943-8129-b7ea0f0fe1b6    0.60000  \n",
       "455  fee80950-ca94-459d-88b0-9818a8cdb7a3    0.56222  \n",
       "456  ff659873-bfba-4da6-94e2-7b91ac8a2c5e    1.00000  \n",
       "457  ff6ddf00-b30c-4c22-9b90-46e4d9f48bc3    0.53056  \n",
       "\n",
       "[458 rows x 4 columns]"
      ]
     },
     "metadata": {},
     "output_type": "display_data"
    },
    {
     "data": {
      "application/vnd.jupyter.widget-view+json": {
       "model_id": "ee12aa3e89db4424a4f945ac442c528c",
       "version_major": 2,
       "version_minor": 0
      },
      "text/plain": [
       "  0%|          | 0/458 [00:00<?, ?it/s]"
      ]
     },
     "metadata": {},
     "output_type": "display_data"
    }
   ],
   "source": [
    "scored_questions = {1, 2, 3, 4, 5, 6, 7, 8, 9, 10, 11, 12}\n",
    "question_schema = {1:{'type':'select_one_nominal', 'num_choices':3},\n",
    "           2:{'type':'select_all', 'num_choices':9},\n",
    "           3:{'type':'select_one_nominal', 'num_choices':1},\n",
    "           4:{'type':'select_one_ordinal', 'num_choices':6},\n",
    "           5:{'type':'select_one_nominal', 'num_choices':5},\n",
    "           6:{'type':'select_one_nominal', 'num_choices':3},\n",
    "           7:{'type':'select_one_ordinal', 'num_choices':1},\n",
    "           8:{'type':'select_one_ordinal', 'num_choices':5},\n",
    "           9:{'type':'select_one_ordinal', 'num_choices':3},\n",
    "           10:{'type':'select_one_ordinal', 'num_choices':5},\n",
    "           11:{'type':'select_one_ordinal', 'num_choices':5},\n",
    "           12:{'type':'select_one_ordinal', 'num_choices':4},\n",
    "           13:{'type':'select_one_ordinal', 'num_choices':10},\n",
    "           14:{'type':'select_one_ordinal', 'num_choices':10}}\n",
    "score_task(EvidenceFinal, None, None, EvidenceDH)"
   ]
  },
  {
   "cell_type": "code",
   "execution_count": 20,
   "id": "ccecc3e5-7099-4a8b-9932-ffcbeb3eef7e",
   "metadata": {},
   "outputs": [],
   "source": [
    "test = table_to_df('ucs')"
   ]
  },
  {
   "cell_type": "code",
   "execution_count": 22,
   "id": "e9bafd6e-e01c-4bf3-b221-cc1ba688d921",
   "metadata": {},
   "outputs": [
    {
     "data": {
      "text/plain": [
       "<AxesSubplot:>"
      ]
     },
     "execution_count": 22,
     "metadata": {},
     "output_type": "execute_result"
    },
    {
     "data": {
      "image/png": "[encoded data removed]",
      "text/plain": [
       "<Figure size 432x288 with 1 Axes>"
      ]
     },
     "metadata": {
      "needs_background": "light"
     },
     "output_type": "display_data"
    }
   ],
   "source": [
    "test['score'].hist()"
   ]
  },
  {
   "cell_type": "markdown",
   "id": "edddebbf-eda5-4a9e-a4c5-efb6932767c3",
   "metadata": {},
   "source": [
    "# SOURCES"
   ]
  },
  {
   "cell_type": "code",
   "execution_count": 23,
   "id": "1f3dd518-766d-404e-ade4-52caf51b4cc5",
   "metadata": {},
   "outputs": [
    {
     "name": "stdout",
     "output_type": "stream",
     "text": [
      "task_scores\n"
     ]
    },
    {
     "data": {
      "text/html": [
       "<div>\n",
       "<style scoped>\n",
       "    .dataframe tbody tr th:only-of-type {\n",
       "        vertical-align: middle;\n",
       "    }\n",
       "\n",
       "    .dataframe tbody tr th {\n",
       "        vertical-align: top;\n",
       "    }\n",
       "\n",
       "    .dataframe thead th {\n",
       "        text-align: right;\n",
       "    }\n",
       "</style>\n",
       "<table border=\"1\" class=\"dataframe\">\n",
       "  <thead>\n",
       "    <tr style=\"text-align: right;\">\n",
       "      <th></th>\n",
       "      <th>ts</th>\n",
       "      <th>quiz_task_uuid</th>\n",
       "      <th>user_uuid</th>\n",
       "      <th>task_score</th>\n",
       "    </tr>\n",
       "  </thead>\n",
       "  <tbody>\n",
       "    <tr>\n",
       "      <th>0</th>\n",
       "      <td>2022-05-08 15:27:44</td>\n",
       "      <td>c5df7dbf-85ef-4935-81a7-c24daa809afe</td>\n",
       "      <td>006fc059-a7da-4b18-9989-96a42b7a5522</td>\n",
       "      <td>0.83704</td>\n",
       "    </tr>\n",
       "    <tr>\n",
       "      <th>1</th>\n",
       "      <td>2022-05-08 15:27:44</td>\n",
       "      <td>c5df7dbf-85ef-4935-81a7-c24daa809afe</td>\n",
       "      <td>00c971f7-1860-420b-94e9-7ae1c4353af9</td>\n",
       "      <td>0.91667</td>\n",
       "    </tr>\n",
       "    <tr>\n",
       "      <th>2</th>\n",
       "      <td>2022-05-08 15:27:44</td>\n",
       "      <td>c5df7dbf-85ef-4935-81a7-c24daa809afe</td>\n",
       "      <td>00ca2d0c-d15b-4178-9531-8fcb3f79a06f</td>\n",
       "      <td>0.73611</td>\n",
       "    </tr>\n",
       "    <tr>\n",
       "      <th>3</th>\n",
       "      <td>2022-05-08 15:27:44</td>\n",
       "      <td>c5df7dbf-85ef-4935-81a7-c24daa809afe</td>\n",
       "      <td>00f548b7-6b63-4b47-828e-8e416b6ca0e2</td>\n",
       "      <td>0.63796</td>\n",
       "    </tr>\n",
       "    <tr>\n",
       "      <th>4</th>\n",
       "      <td>2022-05-08 15:27:44</td>\n",
       "      <td>c5df7dbf-85ef-4935-81a7-c24daa809afe</td>\n",
       "      <td>0165b303-0bcc-4f26-85e5-aadb636d3b39</td>\n",
       "      <td>0.77431</td>\n",
       "    </tr>\n",
       "    <tr>\n",
       "      <th>...</th>\n",
       "      <td>...</td>\n",
       "      <td>...</td>\n",
       "      <td>...</td>\n",
       "      <td>...</td>\n",
       "    </tr>\n",
       "    <tr>\n",
       "      <th>696</th>\n",
       "      <td>2022-05-08 15:45:51</td>\n",
       "      <td>9d4ac736-52b7-40df-b2a9-6164fa081960</td>\n",
       "      <td>fb4ae4cc-234b-484a-b541-a8e3a9254a24</td>\n",
       "      <td>0.75298</td>\n",
       "    </tr>\n",
       "    <tr>\n",
       "      <th>697</th>\n",
       "      <td>2022-05-08 15:45:51</td>\n",
       "      <td>9d4ac736-52b7-40df-b2a9-6164fa081960</td>\n",
       "      <td>fb5928da-dc0e-4bf1-a8c7-08b21653903a</td>\n",
       "      <td>0.75992</td>\n",
       "    </tr>\n",
       "    <tr>\n",
       "      <th>698</th>\n",
       "      <td>2022-05-08 15:45:51</td>\n",
       "      <td>9d4ac736-52b7-40df-b2a9-6164fa081960</td>\n",
       "      <td>fc69434d-daa2-463a-a023-4d52dfb3a59a</td>\n",
       "      <td>0.78125</td>\n",
       "    </tr>\n",
       "    <tr>\n",
       "      <th>699</th>\n",
       "      <td>2022-05-08 15:45:51</td>\n",
       "      <td>9d4ac736-52b7-40df-b2a9-6164fa081960</td>\n",
       "      <td>fed45769-aa61-4b8b-847e-a9c799acce15</td>\n",
       "      <td>0.64063</td>\n",
       "    </tr>\n",
       "    <tr>\n",
       "      <th>700</th>\n",
       "      <td>2022-05-08 15:45:51</td>\n",
       "      <td>9d4ac736-52b7-40df-b2a9-6164fa081960</td>\n",
       "      <td>ff659873-bfba-4da6-94e2-7b91ac8a2c5e</td>\n",
       "      <td>0.61409</td>\n",
       "    </tr>\n",
       "  </tbody>\n",
       "</table>\n",
       "<p>701 rows × 4 columns</p>\n",
       "</div>"
      ],
      "text/plain": [
       "                     ts                        quiz_task_uuid  \\\n",
       "0   2022-05-08 15:27:44  c5df7dbf-85ef-4935-81a7-c24daa809afe   \n",
       "1   2022-05-08 15:27:44  c5df7dbf-85ef-4935-81a7-c24daa809afe   \n",
       "2   2022-05-08 15:27:44  c5df7dbf-85ef-4935-81a7-c24daa809afe   \n",
       "3   2022-05-08 15:27:44  c5df7dbf-85ef-4935-81a7-c24daa809afe   \n",
       "4   2022-05-08 15:27:44  c5df7dbf-85ef-4935-81a7-c24daa809afe   \n",
       "..                  ...                                   ...   \n",
       "696 2022-05-08 15:45:51  9d4ac736-52b7-40df-b2a9-6164fa081960   \n",
       "697 2022-05-08 15:45:51  9d4ac736-52b7-40df-b2a9-6164fa081960   \n",
       "698 2022-05-08 15:45:51  9d4ac736-52b7-40df-b2a9-6164fa081960   \n",
       "699 2022-05-08 15:45:51  9d4ac736-52b7-40df-b2a9-6164fa081960   \n",
       "700 2022-05-08 15:45:51  9d4ac736-52b7-40df-b2a9-6164fa081960   \n",
       "\n",
       "                                user_uuid task_score  \n",
       "0    006fc059-a7da-4b18-9989-96a42b7a5522    0.83704  \n",
       "1    00c971f7-1860-420b-94e9-7ae1c4353af9    0.91667  \n",
       "2    00ca2d0c-d15b-4178-9531-8fcb3f79a06f    0.73611  \n",
       "3    00f548b7-6b63-4b47-828e-8e416b6ca0e2    0.63796  \n",
       "4    0165b303-0bcc-4f26-85e5-aadb636d3b39    0.77431  \n",
       "..                                    ...        ...  \n",
       "696  fb4ae4cc-234b-484a-b541-a8e3a9254a24    0.75298  \n",
       "697  fb5928da-dc0e-4bf1-a8c7-08b21653903a    0.75992  \n",
       "698  fc69434d-daa2-463a-a023-4d52dfb3a59a    0.78125  \n",
       "699  fed45769-aa61-4b8b-847e-a9c799acce15    0.64063  \n",
       "700  ff659873-bfba-4da6-94e2-7b91ac8a2c5e    0.61409  \n",
       "\n",
       "[701 rows x 4 columns]"
      ]
     },
     "metadata": {},
     "output_type": "display_data"
    },
    {
     "data": {
      "application/vnd.jupyter.widget-view+json": {
       "model_id": "f481a0e35add43a5a17c98ce9cf7422c",
       "version_major": 2,
       "version_minor": 0
      },
      "text/plain": [
       "  0%|          | 0/243 [00:00<?, ?it/s]"
      ]
     },
     "metadata": {},
     "output_type": "display_data"
    }
   ],
   "source": [
    "scored_questions = {1,2,3,4,5,6,7,8}\n",
    "\n",
    "question_schema = {\n",
    "    1:{'type':'select_all', 'num_choices':2},\n",
    "    2:{'type':'select_one_ordinal', 'num_choices':8},\n",
    "    3:{'type':'select_one_nominal', 'num_choices':2},\n",
    "    4:{'type':'select_all', 'num_choices':9},\n",
    "    5:{'type':'select_all', 'num_choices':9},\n",
    "    6:{'type':'select_all', 'num_choices':2},\n",
    "    7:{'type':'select_all', 'num_choices':6},\n",
    "    8:{'type':'select_one_ordinal', 'num_choices':7},\n",
    "}\n",
    "score_task(SourceFinal, None, None, SourceDH)"
   ]
  },
  {
   "cell_type": "code",
   "execution_count": 24,
   "id": "0dcb9e6e-ffae-4f08-917a-d49a8b6020a8",
   "metadata": {},
   "outputs": [
    {
     "data": {
      "text/plain": [
       "<AxesSubplot:>"
      ]
     },
     "execution_count": 24,
     "metadata": {},
     "output_type": "execute_result"
    },
    {
     "data": {
      "image/png": "[encoded data removed]",
      "text/plain": [
       "<Figure size 432x288 with 1 Axes>"
      ]
     },
     "metadata": {
      "needs_background": "light"
     },
     "output_type": "display_data"
    }
   ],
   "source": [
    "ucs_after_sources = table_to_df('ucs')\n",
    "ucs_after_sources['score'].hist()"
   ]
  },
  {
   "cell_type": "code",
   "execution_count": 26,
   "id": "b368f3ef-c980-445a-b73d-99eb54a43894",
   "metadata": {},
   "outputs": [
    {
     "data": {
      "text/plain": [
       "<AxesSubplot:>"
      ]
     },
     "execution_count": 26,
     "metadata": {},
     "output_type": "execute_result"
    },
    {
     "data": {
      "image/png": "[encoded data removed]",
      "text/plain": [
       "<Figure size 432x288 with 1 Axes>"
      ]
     },
     "metadata": {
      "needs_background": "light"
     },
     "output_type": "display_data"
    }
   ],
   "source": [
    "task_scores_after_sources = table_to_df('task_scores')\n",
    "task_scores_after_sources['task_score'].hist()"
   ]
  },
  {
   "cell_type": "markdown",
   "id": "548efa8f-5921-4400-ae64-054e940cca64",
   "metadata": {},
   "source": [
    "# ARGUMENT"
   ]
  },
  {
   "cell_type": "code",
   "execution_count": 39,
   "id": "2d28be44-1630-456d-af94-7336111af100",
   "metadata": {},
   "outputs": [
    {
     "name": "stdout",
     "output_type": "stream",
     "text": [
      "task_scores\n"
     ]
    },
    {
     "data": {
      "text/html": [
       "<div>\n",
       "<style scoped>\n",
       "    .dataframe tbody tr th:only-of-type {\n",
       "        vertical-align: middle;\n",
       "    }\n",
       "\n",
       "    .dataframe tbody tr th {\n",
       "        vertical-align: top;\n",
       "    }\n",
       "\n",
       "    .dataframe thead th {\n",
       "        text-align: right;\n",
       "    }\n",
       "</style>\n",
       "<table border=\"1\" class=\"dataframe\">\n",
       "  <thead>\n",
       "    <tr style=\"text-align: right;\">\n",
       "      <th></th>\n",
       "      <th>ts</th>\n",
       "      <th>quiz_task_uuid</th>\n",
       "      <th>user_uuid</th>\n",
       "      <th>task_score</th>\n",
       "    </tr>\n",
       "  </thead>\n",
       "  <tbody>\n",
       "    <tr>\n",
       "      <th>0</th>\n",
       "      <td>2022-05-08 15:27:44</td>\n",
       "      <td>c5df7dbf-85ef-4935-81a7-c24daa809afe</td>\n",
       "      <td>006fc059-a7da-4b18-9989-96a42b7a5522</td>\n",
       "      <td>0.83704</td>\n",
       "    </tr>\n",
       "    <tr>\n",
       "      <th>1</th>\n",
       "      <td>2022-05-08 15:27:44</td>\n",
       "      <td>c5df7dbf-85ef-4935-81a7-c24daa809afe</td>\n",
       "      <td>00c971f7-1860-420b-94e9-7ae1c4353af9</td>\n",
       "      <td>0.91667</td>\n",
       "    </tr>\n",
       "    <tr>\n",
       "      <th>2</th>\n",
       "      <td>2022-05-08 15:27:44</td>\n",
       "      <td>c5df7dbf-85ef-4935-81a7-c24daa809afe</td>\n",
       "      <td>00ca2d0c-d15b-4178-9531-8fcb3f79a06f</td>\n",
       "      <td>0.73611</td>\n",
       "    </tr>\n",
       "    <tr>\n",
       "      <th>3</th>\n",
       "      <td>2022-05-08 15:27:44</td>\n",
       "      <td>c5df7dbf-85ef-4935-81a7-c24daa809afe</td>\n",
       "      <td>00f548b7-6b63-4b47-828e-8e416b6ca0e2</td>\n",
       "      <td>0.63796</td>\n",
       "    </tr>\n",
       "    <tr>\n",
       "      <th>4</th>\n",
       "      <td>2022-05-08 15:27:44</td>\n",
       "      <td>c5df7dbf-85ef-4935-81a7-c24daa809afe</td>\n",
       "      <td>0165b303-0bcc-4f26-85e5-aadb636d3b39</td>\n",
       "      <td>0.77431</td>\n",
       "    </tr>\n",
       "    <tr>\n",
       "      <th>...</th>\n",
       "      <td>...</td>\n",
       "      <td>...</td>\n",
       "      <td>...</td>\n",
       "      <td>...</td>\n",
       "    </tr>\n",
       "    <tr>\n",
       "      <th>807</th>\n",
       "      <td>2022-05-08 16:09:20</td>\n",
       "      <td>77edb0f9-95ae-4083-9d26-e8553a69fe32</td>\n",
       "      <td>f0904d89-b393-4400-9fac-3d64b61b8a97</td>\n",
       "      <td>0.00000</td>\n",
       "    </tr>\n",
       "    <tr>\n",
       "      <th>808</th>\n",
       "      <td>2022-05-08 16:09:21</td>\n",
       "      <td>77edb0f9-95ae-4083-9d26-e8553a69fe32</td>\n",
       "      <td>f2b26f1d-b7e1-47ba-955a-f32efb143706</td>\n",
       "      <td>0.00000</td>\n",
       "    </tr>\n",
       "    <tr>\n",
       "      <th>809</th>\n",
       "      <td>2022-05-08 16:09:21</td>\n",
       "      <td>77edb0f9-95ae-4083-9d26-e8553a69fe32</td>\n",
       "      <td>f9143626-bfe0-4e69-b652-6d1525ab4eb0</td>\n",
       "      <td>0.00000</td>\n",
       "    </tr>\n",
       "    <tr>\n",
       "      <th>810</th>\n",
       "      <td>2022-05-08 16:09:21</td>\n",
       "      <td>77edb0f9-95ae-4083-9d26-e8553a69fe32</td>\n",
       "      <td>fa1e2480-fd66-4b58-a62b-ae1e85636c6e</td>\n",
       "      <td>0.00000</td>\n",
       "    </tr>\n",
       "    <tr>\n",
       "      <th>811</th>\n",
       "      <td>2022-05-08 16:09:21</td>\n",
       "      <td>77edb0f9-95ae-4083-9d26-e8553a69fe32</td>\n",
       "      <td>fc69434d-daa2-463a-a023-4d52dfb3a59a</td>\n",
       "      <td>1.00000</td>\n",
       "    </tr>\n",
       "  </tbody>\n",
       "</table>\n",
       "<p>812 rows × 4 columns</p>\n",
       "</div>"
      ],
      "text/plain": [
       "                     ts                        quiz_task_uuid  \\\n",
       "0   2022-05-08 15:27:44  c5df7dbf-85ef-4935-81a7-c24daa809afe   \n",
       "1   2022-05-08 15:27:44  c5df7dbf-85ef-4935-81a7-c24daa809afe   \n",
       "2   2022-05-08 15:27:44  c5df7dbf-85ef-4935-81a7-c24daa809afe   \n",
       "3   2022-05-08 15:27:44  c5df7dbf-85ef-4935-81a7-c24daa809afe   \n",
       "4   2022-05-08 15:27:44  c5df7dbf-85ef-4935-81a7-c24daa809afe   \n",
       "..                  ...                                   ...   \n",
       "807 2022-05-08 16:09:20  77edb0f9-95ae-4083-9d26-e8553a69fe32   \n",
       "808 2022-05-08 16:09:21  77edb0f9-95ae-4083-9d26-e8553a69fe32   \n",
       "809 2022-05-08 16:09:21  77edb0f9-95ae-4083-9d26-e8553a69fe32   \n",
       "810 2022-05-08 16:09:21  77edb0f9-95ae-4083-9d26-e8553a69fe32   \n",
       "811 2022-05-08 16:09:21  77edb0f9-95ae-4083-9d26-e8553a69fe32   \n",
       "\n",
       "                                user_uuid task_score  \n",
       "0    006fc059-a7da-4b18-9989-96a42b7a5522    0.83704  \n",
       "1    00c971f7-1860-420b-94e9-7ae1c4353af9    0.91667  \n",
       "2    00ca2d0c-d15b-4178-9531-8fcb3f79a06f    0.73611  \n",
       "3    00f548b7-6b63-4b47-828e-8e416b6ca0e2    0.63796  \n",
       "4    0165b303-0bcc-4f26-85e5-aadb636d3b39    0.77431  \n",
       "..                                    ...        ...  \n",
       "807  f0904d89-b393-4400-9fac-3d64b61b8a97    0.00000  \n",
       "808  f2b26f1d-b7e1-47ba-955a-f32efb143706    0.00000  \n",
       "809  f9143626-bfe0-4e69-b652-6d1525ab4eb0    0.00000  \n",
       "810  fa1e2480-fd66-4b58-a62b-ae1e85636c6e    0.00000  \n",
       "811  fc69434d-daa2-463a-a023-4d52dfb3a59a    1.00000  \n",
       "\n",
       "[812 rows x 4 columns]"
      ]
     },
     "metadata": {},
     "output_type": "display_data"
    },
    {
     "data": {
      "application/vnd.jupyter.widget-view+json": {
       "model_id": "457260ccefcf4048b15ed3d659a95bf8",
       "version_major": 2,
       "version_minor": 0
      },
      "text/plain": [
       "  0%|          | 0/111 [00:00<?, ?it/s]"
      ]
     },
     "metadata": {},
     "output_type": "display_data"
    }
   ],
   "source": [
    "scored_questions = {1}\n",
    "question_schema= {\n",
    "    1:{'type':'select_one_nominal', 'num_choices':6},\n",
    "}\n",
    "score_task(ArgumentFinal, None, None, ArgumentDH)"
   ]
  },
  {
   "cell_type": "code",
   "execution_count": 40,
   "id": "ec9c0bcf-f4a9-4440-8243-e0cc58c05d17",
   "metadata": {},
   "outputs": [
    {
     "data": {
      "text/plain": [
       "<AxesSubplot:>"
      ]
     },
     "execution_count": 40,
     "metadata": {},
     "output_type": "execute_result"
    },
    {
     "data": {
      "image/png": "[encoded data removed]",
      "text/plain": [
       "<Figure size 432x288 with 1 Axes>"
      ]
     },
     "metadata": {
      "needs_background": "light"
     },
     "output_type": "display_data"
    }
   ],
   "source": [
    "ucs_after_argument = table_to_df('ucs')\n",
    "ucs_after_argument['score'].hist()"
   ]
  },
  {
   "cell_type": "code",
   "execution_count": 41,
   "id": "86362475-09fe-4473-8773-5980f60d11ef",
   "metadata": {},
   "outputs": [
    {
     "data": {
      "text/plain": [
       "<AxesSubplot:>"
      ]
     },
     "execution_count": 41,
     "metadata": {},
     "output_type": "execute_result"
    },
    {
     "data": {
      "image/png": "[encoded data removed]",
      "text/plain": [
       "<Figure size 432x288 with 1 Axes>"
      ]
     },
     "metadata": {
      "needs_background": "light"
     },
     "output_type": "display_data"
    }
   ],
   "source": [
    "task_scores_after_argument = table_to_df('task_scores')\n",
    "task_scores_after_argument['task_score'].hist()"
   ]
  },
  {
   "cell_type": "markdown",
   "id": "a207e470-0529-4643-a02a-8ecd94cf9861",
   "metadata": {},
   "source": [
    "# LANGUAGE"
   ]
  },
  {
   "cell_type": "code",
   "execution_count": 42,
   "id": "5c44b9f8-9f78-4340-8810-c689be4cf835",
   "metadata": {},
   "outputs": [
    {
     "name": "stdout",
     "output_type": "stream",
     "text": [
      "task_scores\n"
     ]
    },
    {
     "data": {
      "text/html": [
       "<div>\n",
       "<style scoped>\n",
       "    .dataframe tbody tr th:only-of-type {\n",
       "        vertical-align: middle;\n",
       "    }\n",
       "\n",
       "    .dataframe tbody tr th {\n",
       "        vertical-align: top;\n",
       "    }\n",
       "\n",
       "    .dataframe thead th {\n",
       "        text-align: right;\n",
       "    }\n",
       "</style>\n",
       "<table border=\"1\" class=\"dataframe\">\n",
       "  <thead>\n",
       "    <tr style=\"text-align: right;\">\n",
       "      <th></th>\n",
       "      <th>ts</th>\n",
       "      <th>quiz_task_uuid</th>\n",
       "      <th>user_uuid</th>\n",
       "      <th>task_score</th>\n",
       "    </tr>\n",
       "  </thead>\n",
       "  <tbody>\n",
       "    <tr>\n",
       "      <th>0</th>\n",
       "      <td>2022-05-08 15:27:44</td>\n",
       "      <td>c5df7dbf-85ef-4935-81a7-c24daa809afe</td>\n",
       "      <td>006fc059-a7da-4b18-9989-96a42b7a5522</td>\n",
       "      <td>0.83704</td>\n",
       "    </tr>\n",
       "    <tr>\n",
       "      <th>1</th>\n",
       "      <td>2022-05-08 15:27:44</td>\n",
       "      <td>c5df7dbf-85ef-4935-81a7-c24daa809afe</td>\n",
       "      <td>00c971f7-1860-420b-94e9-7ae1c4353af9</td>\n",
       "      <td>0.91667</td>\n",
       "    </tr>\n",
       "    <tr>\n",
       "      <th>2</th>\n",
       "      <td>2022-05-08 15:27:44</td>\n",
       "      <td>c5df7dbf-85ef-4935-81a7-c24daa809afe</td>\n",
       "      <td>00ca2d0c-d15b-4178-9531-8fcb3f79a06f</td>\n",
       "      <td>0.73611</td>\n",
       "    </tr>\n",
       "    <tr>\n",
       "      <th>3</th>\n",
       "      <td>2022-05-08 15:27:44</td>\n",
       "      <td>c5df7dbf-85ef-4935-81a7-c24daa809afe</td>\n",
       "      <td>00f548b7-6b63-4b47-828e-8e416b6ca0e2</td>\n",
       "      <td>0.63796</td>\n",
       "    </tr>\n",
       "    <tr>\n",
       "      <th>4</th>\n",
       "      <td>2022-05-08 15:27:44</td>\n",
       "      <td>c5df7dbf-85ef-4935-81a7-c24daa809afe</td>\n",
       "      <td>0165b303-0bcc-4f26-85e5-aadb636d3b39</td>\n",
       "      <td>0.77431</td>\n",
       "    </tr>\n",
       "    <tr>\n",
       "      <th>...</th>\n",
       "      <td>...</td>\n",
       "      <td>...</td>\n",
       "      <td>...</td>\n",
       "      <td>...</td>\n",
       "    </tr>\n",
       "    <tr>\n",
       "      <th>941</th>\n",
       "      <td>2022-05-08 16:16:36</td>\n",
       "      <td>a6012395-1d36-4cdd-bb4f-5bb7842cf10d</td>\n",
       "      <td>f9143626-bfe0-4e69-b652-6d1525ab4eb0</td>\n",
       "      <td>0.51282</td>\n",
       "    </tr>\n",
       "    <tr>\n",
       "      <th>942</th>\n",
       "      <td>2022-05-08 16:16:36</td>\n",
       "      <td>a6012395-1d36-4cdd-bb4f-5bb7842cf10d</td>\n",
       "      <td>fa1e2480-fd66-4b58-a62b-ae1e85636c6e</td>\n",
       "      <td>0.38462</td>\n",
       "    </tr>\n",
       "    <tr>\n",
       "      <th>943</th>\n",
       "      <td>2022-05-08 16:16:36</td>\n",
       "      <td>a6012395-1d36-4cdd-bb4f-5bb7842cf10d</td>\n",
       "      <td>fc69434d-daa2-463a-a023-4d52dfb3a59a</td>\n",
       "      <td>0.15385</td>\n",
       "    </tr>\n",
       "    <tr>\n",
       "      <th>944</th>\n",
       "      <td>2022-05-08 16:16:36</td>\n",
       "      <td>a6012395-1d36-4cdd-bb4f-5bb7842cf10d</td>\n",
       "      <td>fed45769-aa61-4b8b-847e-a9c799acce15</td>\n",
       "      <td>0.56410</td>\n",
       "    </tr>\n",
       "    <tr>\n",
       "      <th>945</th>\n",
       "      <td>2022-05-08 16:16:36</td>\n",
       "      <td>a6012395-1d36-4cdd-bb4f-5bb7842cf10d</td>\n",
       "      <td>fef20f2e-1f28-4435-8e5f-55836c1a4ed9</td>\n",
       "      <td>0.69231</td>\n",
       "    </tr>\n",
       "  </tbody>\n",
       "</table>\n",
       "<p>946 rows × 4 columns</p>\n",
       "</div>"
      ],
      "text/plain": [
       "                     ts                        quiz_task_uuid  \\\n",
       "0   2022-05-08 15:27:44  c5df7dbf-85ef-4935-81a7-c24daa809afe   \n",
       "1   2022-05-08 15:27:44  c5df7dbf-85ef-4935-81a7-c24daa809afe   \n",
       "2   2022-05-08 15:27:44  c5df7dbf-85ef-4935-81a7-c24daa809afe   \n",
       "3   2022-05-08 15:27:44  c5df7dbf-85ef-4935-81a7-c24daa809afe   \n",
       "4   2022-05-08 15:27:44  c5df7dbf-85ef-4935-81a7-c24daa809afe   \n",
       "..                  ...                                   ...   \n",
       "941 2022-05-08 16:16:36  a6012395-1d36-4cdd-bb4f-5bb7842cf10d   \n",
       "942 2022-05-08 16:16:36  a6012395-1d36-4cdd-bb4f-5bb7842cf10d   \n",
       "943 2022-05-08 16:16:36  a6012395-1d36-4cdd-bb4f-5bb7842cf10d   \n",
       "944 2022-05-08 16:16:36  a6012395-1d36-4cdd-bb4f-5bb7842cf10d   \n",
       "945 2022-05-08 16:16:36  a6012395-1d36-4cdd-bb4f-5bb7842cf10d   \n",
       "\n",
       "                                user_uuid task_score  \n",
       "0    006fc059-a7da-4b18-9989-96a42b7a5522    0.83704  \n",
       "1    00c971f7-1860-420b-94e9-7ae1c4353af9    0.91667  \n",
       "2    00ca2d0c-d15b-4178-9531-8fcb3f79a06f    0.73611  \n",
       "3    00f548b7-6b63-4b47-828e-8e416b6ca0e2    0.63796  \n",
       "4    0165b303-0bcc-4f26-85e5-aadb636d3b39    0.77431  \n",
       "..                                    ...        ...  \n",
       "941  f9143626-bfe0-4e69-b652-6d1525ab4eb0    0.51282  \n",
       "942  fa1e2480-fd66-4b58-a62b-ae1e85636c6e    0.38462  \n",
       "943  fc69434d-daa2-463a-a023-4d52dfb3a59a    0.15385  \n",
       "944  fed45769-aa61-4b8b-847e-a9c799acce15    0.56410  \n",
       "945  fef20f2e-1f28-4435-8e5f-55836c1a4ed9    0.69231  \n",
       "\n",
       "[946 rows x 4 columns]"
      ]
     },
     "metadata": {},
     "output_type": "display_data"
    },
    {
     "data": {
      "application/vnd.jupyter.widget-view+json": {
       "model_id": "aebfc7aefde54411b57562dea270d715",
       "version_major": 2,
       "version_minor": 0
      },
      "text/plain": [
       "  0%|          | 0/134 [00:00<?, ?it/s]"
      ]
     },
     "metadata": {},
     "output_type": "display_data"
    }
   ],
   "source": [
    "scored_questions = {1, 2, 3, 5, 6, 8, 9, 10, 11, 12, 13}\n",
    "question_schema = {\n",
    "    1:{'type':'select_all', 'num_choices':13},\n",
    "    2:{'type':'select_one_nominal', 'num_choices':5},\n",
    "    3:{'type':'select_one_nominal', 'num_choices':5},\n",
    "    # 4:{'type':'select_all', 'num_choices':9}, THERE IS NO Q4 IN SCHEMA\n",
    "    5:{'type':'select_one_nominal', 'num_choices':5},\n",
    "    6:{'type':'select_all', 'num_choices':8},\n",
    "    # 7:{'type':'select_all', 'num_choices':6}, 7 IS A TEXTBOX ANSWER, IGNORE FOR NOW\n",
    "    # 8:{'type':'select_one_ordinal', 'num_choices':7},NO Q8\n",
    "    9:{'type':'select_one_nominal', 'num_choices':5},\n",
    "    10:{'type':'select_one_nominal', 'num_choices':4},\n",
    "    11:{'type':'select_one_nominal', 'num_choices':5},\n",
    "    12:{'type':'select_one_nominal', 'num_choices':4},\n",
    "    13:{'type':'select_one_nominal', 'num_choices':5},\n",
    "}\n",
    "score_task(LanguageFinal, None, None, LanguageDH)"
   ]
  },
  {
   "cell_type": "code",
   "execution_count": 43,
   "id": "835a9489-b703-4a76-9e32-25143a9ad8db",
   "metadata": {},
   "outputs": [
    {
     "data": {
      "text/plain": [
       "<AxesSubplot:>"
      ]
     },
     "execution_count": 43,
     "metadata": {},
     "output_type": "execute_result"
    },
    {
     "data": {
      "image/png": "[encoded data removed]",
      "text/plain": [
       "<Figure size 432x288 with 1 Axes>"
      ]
     },
     "metadata": {
      "needs_background": "light"
     },
     "output_type": "display_data"
    }
   ],
   "source": [
    "ucs_after_language = table_to_df('ucs')\n",
    "ucs_after_language['score'].hist()"
   ]
  },
  {
   "cell_type": "code",
   "execution_count": 44,
   "id": "a7934921-1574-4fff-bf9b-66dc527bd12a",
   "metadata": {},
   "outputs": [
    {
     "data": {
      "text/plain": [
       "<AxesSubplot:>"
      ]
     },
     "execution_count": 44,
     "metadata": {},
     "output_type": "execute_result"
    },
    {
     "data": {
      "image/png": "[encoded data removed]",
      "text/plain": [
       "<Figure size 432x288 with 1 Axes>"
      ]
     },
     "metadata": {
      "needs_background": "light"
     },
     "output_type": "display_data"
    }
   ],
   "source": [
    "task_scores_after_language = table_to_df('task_scores')\n",
    "task_scores_after_language['task_score'].hist()"
   ]
  },
  {
   "cell_type": "markdown",
   "id": "3d858a31-08a4-4daa-8b0a-8b2896b9dbfc",
   "metadata": {},
   "source": [
    "# PROBABILITY"
   ]
  },
  {
   "cell_type": "code",
   "execution_count": 45,
   "id": "19c689a3-b96e-48c0-aa15-7b2baa005f89",
   "metadata": {},
   "outputs": [
    {
     "name": "stdout",
     "output_type": "stream",
     "text": [
      "task_scores\n"
     ]
    },
    {
     "data": {
      "text/html": [
       "<div>\n",
       "<style scoped>\n",
       "    .dataframe tbody tr th:only-of-type {\n",
       "        vertical-align: middle;\n",
       "    }\n",
       "\n",
       "    .dataframe tbody tr th {\n",
       "        vertical-align: top;\n",
       "    }\n",
       "\n",
       "    .dataframe thead th {\n",
       "        text-align: right;\n",
       "    }\n",
       "</style>\n",
       "<table border=\"1\" class=\"dataframe\">\n",
       "  <thead>\n",
       "    <tr style=\"text-align: right;\">\n",
       "      <th></th>\n",
       "      <th>ts</th>\n",
       "      <th>quiz_task_uuid</th>\n",
       "      <th>user_uuid</th>\n",
       "      <th>task_score</th>\n",
       "    </tr>\n",
       "  </thead>\n",
       "  <tbody>\n",
       "    <tr>\n",
       "      <th>0</th>\n",
       "      <td>2022-05-08 15:27:44</td>\n",
       "      <td>c5df7dbf-85ef-4935-81a7-c24daa809afe</td>\n",
       "      <td>006fc059-a7da-4b18-9989-96a42b7a5522</td>\n",
       "      <td>0.83704</td>\n",
       "    </tr>\n",
       "    <tr>\n",
       "      <th>1</th>\n",
       "      <td>2022-05-08 15:27:44</td>\n",
       "      <td>c5df7dbf-85ef-4935-81a7-c24daa809afe</td>\n",
       "      <td>00c971f7-1860-420b-94e9-7ae1c4353af9</td>\n",
       "      <td>0.91667</td>\n",
       "    </tr>\n",
       "    <tr>\n",
       "      <th>2</th>\n",
       "      <td>2022-05-08 15:27:44</td>\n",
       "      <td>c5df7dbf-85ef-4935-81a7-c24daa809afe</td>\n",
       "      <td>00ca2d0c-d15b-4178-9531-8fcb3f79a06f</td>\n",
       "      <td>0.73611</td>\n",
       "    </tr>\n",
       "    <tr>\n",
       "      <th>3</th>\n",
       "      <td>2022-05-08 15:27:44</td>\n",
       "      <td>c5df7dbf-85ef-4935-81a7-c24daa809afe</td>\n",
       "      <td>00f548b7-6b63-4b47-828e-8e416b6ca0e2</td>\n",
       "      <td>0.63796</td>\n",
       "    </tr>\n",
       "    <tr>\n",
       "      <th>4</th>\n",
       "      <td>2022-05-08 15:27:44</td>\n",
       "      <td>c5df7dbf-85ef-4935-81a7-c24daa809afe</td>\n",
       "      <td>0165b303-0bcc-4f26-85e5-aadb636d3b39</td>\n",
       "      <td>0.77431</td>\n",
       "    </tr>\n",
       "    <tr>\n",
       "      <th>...</th>\n",
       "      <td>...</td>\n",
       "      <td>...</td>\n",
       "      <td>...</td>\n",
       "      <td>...</td>\n",
       "    </tr>\n",
       "    <tr>\n",
       "      <th>1371</th>\n",
       "      <td>2022-05-08 16:26:39</td>\n",
       "      <td>bdd80524-b482-4f27-9ac4-cf371f5893dd</td>\n",
       "      <td>fed45769-aa61-4b8b-847e-a9c799acce15</td>\n",
       "      <td>0.40000</td>\n",
       "    </tr>\n",
       "    <tr>\n",
       "      <th>1372</th>\n",
       "      <td>2022-05-08 16:26:39</td>\n",
       "      <td>bdd80524-b482-4f27-9ac4-cf371f5893dd</td>\n",
       "      <td>fee80950-ca94-459d-88b0-9818a8cdb7a3</td>\n",
       "      <td>0.20000</td>\n",
       "    </tr>\n",
       "    <tr>\n",
       "      <th>1373</th>\n",
       "      <td>2022-05-08 16:26:39</td>\n",
       "      <td>bdd80524-b482-4f27-9ac4-cf371f5893dd</td>\n",
       "      <td>fef20f2e-1f28-4435-8e5f-55836c1a4ed9</td>\n",
       "      <td>0.40000</td>\n",
       "    </tr>\n",
       "    <tr>\n",
       "      <th>1374</th>\n",
       "      <td>2022-05-08 16:26:39</td>\n",
       "      <td>bdd80524-b482-4f27-9ac4-cf371f5893dd</td>\n",
       "      <td>ff659873-bfba-4da6-94e2-7b91ac8a2c5e</td>\n",
       "      <td>0.28571</td>\n",
       "    </tr>\n",
       "    <tr>\n",
       "      <th>1375</th>\n",
       "      <td>2022-05-08 16:26:39</td>\n",
       "      <td>bdd80524-b482-4f27-9ac4-cf371f5893dd</td>\n",
       "      <td>ff6ddf00-b30c-4c22-9b90-46e4d9f48bc3</td>\n",
       "      <td>0.26667</td>\n",
       "    </tr>\n",
       "  </tbody>\n",
       "</table>\n",
       "<p>1376 rows × 4 columns</p>\n",
       "</div>"
      ],
      "text/plain": [
       "                      ts                        quiz_task_uuid  \\\n",
       "0    2022-05-08 15:27:44  c5df7dbf-85ef-4935-81a7-c24daa809afe   \n",
       "1    2022-05-08 15:27:44  c5df7dbf-85ef-4935-81a7-c24daa809afe   \n",
       "2    2022-05-08 15:27:44  c5df7dbf-85ef-4935-81a7-c24daa809afe   \n",
       "3    2022-05-08 15:27:44  c5df7dbf-85ef-4935-81a7-c24daa809afe   \n",
       "4    2022-05-08 15:27:44  c5df7dbf-85ef-4935-81a7-c24daa809afe   \n",
       "...                  ...                                   ...   \n",
       "1371 2022-05-08 16:26:39  bdd80524-b482-4f27-9ac4-cf371f5893dd   \n",
       "1372 2022-05-08 16:26:39  bdd80524-b482-4f27-9ac4-cf371f5893dd   \n",
       "1373 2022-05-08 16:26:39  bdd80524-b482-4f27-9ac4-cf371f5893dd   \n",
       "1374 2022-05-08 16:26:39  bdd80524-b482-4f27-9ac4-cf371f5893dd   \n",
       "1375 2022-05-08 16:26:39  bdd80524-b482-4f27-9ac4-cf371f5893dd   \n",
       "\n",
       "                                 user_uuid task_score  \n",
       "0     006fc059-a7da-4b18-9989-96a42b7a5522    0.83704  \n",
       "1     00c971f7-1860-420b-94e9-7ae1c4353af9    0.91667  \n",
       "2     00ca2d0c-d15b-4178-9531-8fcb3f79a06f    0.73611  \n",
       "3     00f548b7-6b63-4b47-828e-8e416b6ca0e2    0.63796  \n",
       "4     0165b303-0bcc-4f26-85e5-aadb636d3b39    0.77431  \n",
       "...                                    ...        ...  \n",
       "1371  fed45769-aa61-4b8b-847e-a9c799acce15    0.40000  \n",
       "1372  fee80950-ca94-459d-88b0-9818a8cdb7a3    0.20000  \n",
       "1373  fef20f2e-1f28-4435-8e5f-55836c1a4ed9    0.40000  \n",
       "1374  ff659873-bfba-4da6-94e2-7b91ac8a2c5e    0.28571  \n",
       "1375  ff6ddf00-b30c-4c22-9b90-46e4d9f48bc3    0.26667  \n",
       "\n",
       "[1376 rows x 4 columns]"
      ]
     },
     "metadata": {},
     "output_type": "display_data"
    },
    {
     "data": {
      "application/vnd.jupyter.widget-view+json": {
       "model_id": "482b42ea04644b6893a20af920e6fb46",
       "version_major": 2,
       "version_minor": 0
      },
      "text/plain": [
       "  0%|          | 0/430 [00:00<?, ?it/s]"
      ]
     },
     "metadata": {},
     "output_type": "display_data"
    }
   ],
   "source": [
    "scored_questions = {1, 2, 5, 6, 7, 10, 11, 12}\n",
    "question_schema = {\n",
    "    1:{'type':'select_one_nominal', 'num_choices':3},\n",
    "    2:{'type':'select_one_nominal', 'num_choices':5},\n",
    "    # 3:{'type':'select_one_nominal', 'num_choices':5},NO Q3 IN SCHEMA\n",
    "    # 4:{'type':'select_all', 'num_choices':9}, THERE IS NO Q4 IN SCHEMA\n",
    "    5:{'type':'select_one_nominal', 'num_choices':3},\n",
    "    6:{'type':'select_one_nominal', 'num_choices':3},\n",
    "    7:{'type':'select_one_nominal', 'num_choices':5},\n",
    "    # 8:{'type':'select_one_ordinal', 'num_choices':7},NO Q8\n",
    "    # 9:{'type':'select_one_nominal', 'num_choices':5},NO Q9\n",
    "    10:{'type':'select_one_nominal', 'num_choices':3},\n",
    "    11:{'type':'select_one_nominal', 'num_choices':4},\n",
    "    12:{'type':'select_all', 'num_choices':5},\n",
    "}\n",
    "score_task(ProbabilityFinal, None, None, ProbabilityDH)"
   ]
  },
  {
   "cell_type": "code",
   "execution_count": 46,
   "id": "5ff2b51d-7505-43c5-ab69-beb6ad2ee31a",
   "metadata": {},
   "outputs": [
    {
     "data": {
      "text/plain": [
       "<AxesSubplot:>"
      ]
     },
     "execution_count": 46,
     "metadata": {},
     "output_type": "execute_result"
    },
    {
     "data": {
      "image/png": "[encoded data removed]",
      "text/plain": [
       "<Figure size 432x288 with 1 Axes>"
      ]
     },
     "metadata": {
      "needs_background": "light"
     },
     "output_type": "display_data"
    }
   ],
   "source": [
    "ucs_after_probability = table_to_df('ucs')\n",
    "ucs_after_probability['score'].hist()"
   ]
  },
  {
   "cell_type": "code",
   "execution_count": 47,
   "id": "215c5ad3-85ae-4101-8281-99e980f7e5aa",
   "metadata": {},
   "outputs": [
    {
     "data": {
      "text/plain": [
       "<AxesSubplot:>"
      ]
     },
     "execution_count": 47,
     "metadata": {},
     "output_type": "execute_result"
    },
    {
     "data": {
      "image/png": "[encoded data removed]",
      "text/plain": [
       "<Figure size 432x288 with 1 Axes>"
      ]
     },
     "metadata": {
      "needs_background": "light"
     },
     "output_type": "display_data"
    }
   ],
   "source": [
    "task_scores_after_probability = table_to_df('task_scores')\n",
    "task_scores_after_probability['task_score'].hist()"
   ]
  },
  {
   "cell_type": "markdown",
   "id": "38b011ea-4c74-48f8-929f-8dd2c35caf30",
   "metadata": {},
   "source": [
    "# REASONING"
   ]
  },
  {
   "cell_type": "code",
   "execution_count": 48,
   "id": "06c73f2d-6f2f-45fc-8a63-a13be1475f09",
   "metadata": {},
   "outputs": [
    {
     "name": "stdout",
     "output_type": "stream",
     "text": [
      "task_scores\n"
     ]
    },
    {
     "data": {
      "text/html": [
       "<div>\n",
       "<style scoped>\n",
       "    .dataframe tbody tr th:only-of-type {\n",
       "        vertical-align: middle;\n",
       "    }\n",
       "\n",
       "    .dataframe tbody tr th {\n",
       "        vertical-align: top;\n",
       "    }\n",
       "\n",
       "    .dataframe thead th {\n",
       "        text-align: right;\n",
       "    }\n",
       "</style>\n",
       "<table border=\"1\" class=\"dataframe\">\n",
       "  <thead>\n",
       "    <tr style=\"text-align: right;\">\n",
       "      <th></th>\n",
       "      <th>ts</th>\n",
       "      <th>quiz_task_uuid</th>\n",
       "      <th>user_uuid</th>\n",
       "      <th>task_score</th>\n",
       "    </tr>\n",
       "  </thead>\n",
       "  <tbody>\n",
       "    <tr>\n",
       "      <th>0</th>\n",
       "      <td>2022-05-08 15:27:44</td>\n",
       "      <td>c5df7dbf-85ef-4935-81a7-c24daa809afe</td>\n",
       "      <td>006fc059-a7da-4b18-9989-96a42b7a5522</td>\n",
       "      <td>0.83704</td>\n",
       "    </tr>\n",
       "    <tr>\n",
       "      <th>1</th>\n",
       "      <td>2022-05-08 15:27:44</td>\n",
       "      <td>c5df7dbf-85ef-4935-81a7-c24daa809afe</td>\n",
       "      <td>00c971f7-1860-420b-94e9-7ae1c4353af9</td>\n",
       "      <td>0.91667</td>\n",
       "    </tr>\n",
       "    <tr>\n",
       "      <th>2</th>\n",
       "      <td>2022-05-08 15:27:44</td>\n",
       "      <td>c5df7dbf-85ef-4935-81a7-c24daa809afe</td>\n",
       "      <td>00ca2d0c-d15b-4178-9531-8fcb3f79a06f</td>\n",
       "      <td>0.73611</td>\n",
       "    </tr>\n",
       "    <tr>\n",
       "      <th>3</th>\n",
       "      <td>2022-05-08 15:27:44</td>\n",
       "      <td>c5df7dbf-85ef-4935-81a7-c24daa809afe</td>\n",
       "      <td>00f548b7-6b63-4b47-828e-8e416b6ca0e2</td>\n",
       "      <td>0.63796</td>\n",
       "    </tr>\n",
       "    <tr>\n",
       "      <th>4</th>\n",
       "      <td>2022-05-08 15:27:44</td>\n",
       "      <td>c5df7dbf-85ef-4935-81a7-c24daa809afe</td>\n",
       "      <td>0165b303-0bcc-4f26-85e5-aadb636d3b39</td>\n",
       "      <td>0.77431</td>\n",
       "    </tr>\n",
       "    <tr>\n",
       "      <th>...</th>\n",
       "      <td>...</td>\n",
       "      <td>...</td>\n",
       "      <td>...</td>\n",
       "      <td>...</td>\n",
       "    </tr>\n",
       "    <tr>\n",
       "      <th>1482</th>\n",
       "      <td>2022-05-08 17:08:23</td>\n",
       "      <td>d463bb7f-4e42-4f56-bf9d-35e6dbc3d6c2</td>\n",
       "      <td>f3a07c88-a40c-4b3a-8cd2-b0a7477e88ef</td>\n",
       "      <td>0.00000</td>\n",
       "    </tr>\n",
       "    <tr>\n",
       "      <th>1483</th>\n",
       "      <td>2022-05-08 17:08:23</td>\n",
       "      <td>d463bb7f-4e42-4f56-bf9d-35e6dbc3d6c2</td>\n",
       "      <td>f9143626-bfe0-4e69-b652-6d1525ab4eb0</td>\n",
       "      <td>0.33333</td>\n",
       "    </tr>\n",
       "    <tr>\n",
       "      <th>1484</th>\n",
       "      <td>2022-05-08 17:08:23</td>\n",
       "      <td>d463bb7f-4e42-4f56-bf9d-35e6dbc3d6c2</td>\n",
       "      <td>fb8f2a49-900f-4e3b-867d-05f34f32dc83</td>\n",
       "      <td>0.20000</td>\n",
       "    </tr>\n",
       "    <tr>\n",
       "      <th>1485</th>\n",
       "      <td>2022-05-08 17:08:23</td>\n",
       "      <td>d463bb7f-4e42-4f56-bf9d-35e6dbc3d6c2</td>\n",
       "      <td>fc69434d-daa2-463a-a023-4d52dfb3a59a</td>\n",
       "      <td>0.00000</td>\n",
       "    </tr>\n",
       "    <tr>\n",
       "      <th>1486</th>\n",
       "      <td>2022-05-08 17:08:23</td>\n",
       "      <td>d463bb7f-4e42-4f56-bf9d-35e6dbc3d6c2</td>\n",
       "      <td>fed45769-aa61-4b8b-847e-a9c799acce15</td>\n",
       "      <td>0.60000</td>\n",
       "    </tr>\n",
       "  </tbody>\n",
       "</table>\n",
       "<p>1487 rows × 4 columns</p>\n",
       "</div>"
      ],
      "text/plain": [
       "                      ts                        quiz_task_uuid  \\\n",
       "0    2022-05-08 15:27:44  c5df7dbf-85ef-4935-81a7-c24daa809afe   \n",
       "1    2022-05-08 15:27:44  c5df7dbf-85ef-4935-81a7-c24daa809afe   \n",
       "2    2022-05-08 15:27:44  c5df7dbf-85ef-4935-81a7-c24daa809afe   \n",
       "3    2022-05-08 15:27:44  c5df7dbf-85ef-4935-81a7-c24daa809afe   \n",
       "4    2022-05-08 15:27:44  c5df7dbf-85ef-4935-81a7-c24daa809afe   \n",
       "...                  ...                                   ...   \n",
       "1482 2022-05-08 17:08:23  d463bb7f-4e42-4f56-bf9d-35e6dbc3d6c2   \n",
       "1483 2022-05-08 17:08:23  d463bb7f-4e42-4f56-bf9d-35e6dbc3d6c2   \n",
       "1484 2022-05-08 17:08:23  d463bb7f-4e42-4f56-bf9d-35e6dbc3d6c2   \n",
       "1485 2022-05-08 17:08:23  d463bb7f-4e42-4f56-bf9d-35e6dbc3d6c2   \n",
       "1486 2022-05-08 17:08:23  d463bb7f-4e42-4f56-bf9d-35e6dbc3d6c2   \n",
       "\n",
       "                                 user_uuid task_score  \n",
       "0     006fc059-a7da-4b18-9989-96a42b7a5522    0.83704  \n",
       "1     00c971f7-1860-420b-94e9-7ae1c4353af9    0.91667  \n",
       "2     00ca2d0c-d15b-4178-9531-8fcb3f79a06f    0.73611  \n",
       "3     00f548b7-6b63-4b47-828e-8e416b6ca0e2    0.63796  \n",
       "4     0165b303-0bcc-4f26-85e5-aadb636d3b39    0.77431  \n",
       "...                                    ...        ...  \n",
       "1482  f3a07c88-a40c-4b3a-8cd2-b0a7477e88ef    0.00000  \n",
       "1483  f9143626-bfe0-4e69-b652-6d1525ab4eb0    0.33333  \n",
       "1484  fb8f2a49-900f-4e3b-867d-05f34f32dc83    0.20000  \n",
       "1485  fc69434d-daa2-463a-a023-4d52dfb3a59a    0.00000  \n",
       "1486  fed45769-aa61-4b8b-847e-a9c799acce15    0.60000  \n",
       "\n",
       "[1487 rows x 4 columns]"
      ]
     },
     "metadata": {},
     "output_type": "display_data"
    },
    {
     "data": {
      "application/vnd.jupyter.widget-view+json": {
       "model_id": "cd044f5154734ba7920cb2fed9a0e2b1",
       "version_major": 2,
       "version_minor": 0
      },
      "text/plain": [
       "  0%|          | 0/111 [00:00<?, ?it/s]"
      ]
     },
     "metadata": {},
     "output_type": "display_data"
    }
   ],
   "source": [
    "scored_questions_reasoning = {1, 2, 3, 4, 5, 6, 7}\n",
    "question_schema_reasoning = {\n",
    "    1:{'type':'select_all', 'num_choices':6},\n",
    "    2:{'type':'select_all', 'num_choices':6},\n",
    "    3:{'type':'select_all', 'num_choices':7},\n",
    "    4:{'type':'select_one_nominal', 'num_choices':3},\n",
    "    5:{'type':'select_one_nominal', 'num_choices':3},\n",
    "    6:{'type':'select_all', 'num_choices':10},\n",
    "    7:{'type':'select_one_nominal', 'num_choices':5}\n",
    "    # 8:{'type':'select_one_ordinal', 'num_choices':7}, Textbox\n",
    "}\n",
    "score_task(ReasoningFinal, None, None, ReasoningDH)"
   ]
  },
  {
   "cell_type": "code",
   "execution_count": 49,
   "id": "3f371d3a-331b-4aa9-9a15-14bb1251413c",
   "metadata": {},
   "outputs": [
    {
     "data": {
      "text/plain": [
       "<AxesSubplot:>"
      ]
     },
     "execution_count": 49,
     "metadata": {},
     "output_type": "execute_result"
    },
    {
     "data": {
      "image/png": "[encoded data removed]",
      "text/plain": [
       "<Figure size 432x288 with 1 Axes>"
      ]
     },
     "metadata": {
      "needs_background": "light"
     },
     "output_type": "display_data"
    }
   ],
   "source": [
    "ucs_after_reasoning = table_to_df('ucs')\n",
    "ucs_after_reasoning['score'].hist()"
   ]
  },
  {
   "cell_type": "code",
   "execution_count": 50,
   "id": "d293192c-880d-49b2-902b-18cc944bdb6c",
   "metadata": {},
   "outputs": [
    {
     "data": {
      "text/plain": [
       "<AxesSubplot:>"
      ]
     },
     "execution_count": 50,
     "metadata": {},
     "output_type": "execute_result"
    },
    {
     "data": {
      "image/png": "[encoded data removed]",
      "text/plain": [
       "<Figure size 432x288 with 1 Axes>"
      ]
     },
     "metadata": {
      "needs_background": "light"
     },
     "output_type": "display_data"
    }
   ],
   "source": [
    "task_scores_after_reasoning = table_to_df('task_scores')\n",
    "task_scores_after_reasoning['task_score'].hist()"
   ]
  },
  {
   "cell_type": "markdown",
   "id": "cb495b7b-71a8-473e-8472-eb2732426f1e",
   "metadata": {},
   "source": [
    "#### Step 3) Whitelisting users who are part of the 4/3 demo program"
   ]
  },
  {
   "cell_type": "code",
   "execution_count": 84,
   "id": "ab061fb3-871d-4e84-85c6-e64f444a90ea",
   "metadata": {},
   "outputs": [],
   "source": [
    "# pseudocode:\n",
    "\n",
    "# def load_participants_list(file_name):\n",
    "#     participants = load_data(file_name)\n",
    "#     combine the first and the second rows of the participants data as the index\n",
    "#     https://pandas.pydata.org/docs/reference/api/pandas.DataFrame.reindex.html\n",
    "#     drop the second row\n",
    "\n",
    "# def get_whitelisted_users(participants_list):\n",
    "#     get ucs scores as df\n",
    "#     inner merge (?) between ucs scores and participants_list\n",
    "#     return resulting dataframe, which should already be sorted\n",
    "\n",
    "def load_participants_list(file_name):\n",
    "    participants = load_data(file_name).iloc[2:, :]\n",
    "    participants.columns = ['ux_contributor_id', 'nickname', 'contributor_uuid', 'retrieved_task_runs', 'total_worktime']\n",
    "    return participants\n",
    "\n",
    "def get_whitelisted_users(participants_list):\n",
    "    # FIXME: Some duplicate uuid's in ucs at the end of the day\n",
    "    ucs = table_to_df('ucs').astype({\"score\": float}).groupby(['uuid']).mean()\n",
    "    ucs = pd.merge(ucs, participants_list, left_on='uuid', right_on='contributor_uuid', how='right')\n",
    "    ucs = ucs.sort_values(by='score', ascending=False)\n",
    "    return ucs"
   ]
  },
  {
   "cell_type": "code",
   "execution_count": 85,
   "id": "07abab80-e595-4cb5-af40-cc6560feb135",
   "metadata": {
    "tags": []
   },
   "outputs": [
    {
     "data": {
      "text/html": [
       "<div>\n",
       "<style scoped>\n",
       "    .dataframe tbody tr th:only-of-type {\n",
       "        vertical-align: middle;\n",
       "    }\n",
       "\n",
       "    .dataframe tbody tr th {\n",
       "        vertical-align: top;\n",
       "    }\n",
       "\n",
       "    .dataframe thead th {\n",
       "        text-align: right;\n",
       "    }\n",
       "</style>\n",
       "<table border=\"1\" class=\"dataframe\">\n",
       "  <thead>\n",
       "    <tr style=\"text-align: right;\">\n",
       "      <th></th>\n",
       "      <th>score</th>\n",
       "      <th>ux_contributor_id</th>\n",
       "      <th>nickname</th>\n",
       "      <th>contributor_uuid</th>\n",
       "      <th>retrieved_task_runs</th>\n",
       "      <th>total_worktime</th>\n",
       "    </tr>\n",
       "  </thead>\n",
       "  <tbody>\n",
       "    <tr>\n",
       "      <th>23</th>\n",
       "      <td>0.536542</td>\n",
       "      <td>1045</td>\n",
       "      <td>Joshua Serrao</td>\n",
       "      <td>d57b44db-2dab-416a-81cf-90ace481679c</td>\n",
       "      <td>39</td>\n",
       "      <td>3:06:31</td>\n",
       "    </tr>\n",
       "    <tr>\n",
       "      <th>37</th>\n",
       "      <td>0.524010</td>\n",
       "      <td>1059</td>\n",
       "      <td>Amine KALLEL</td>\n",
       "      <td>946bd48a-999a-4700-9553-b21a92ac2acc</td>\n",
       "      <td>10</td>\n",
       "      <td>0:48:35</td>\n",
       "    </tr>\n",
       "    <tr>\n",
       "      <th>19</th>\n",
       "      <td>0.522710</td>\n",
       "      <td>1041</td>\n",
       "      <td>Mark Welin</td>\n",
       "      <td>9b7e7266-2f9f-4947-95de-507121b81625</td>\n",
       "      <td>39</td>\n",
       "      <td>7:08:28</td>\n",
       "    </tr>\n",
       "    <tr>\n",
       "      <th>18</th>\n",
       "      <td>0.521580</td>\n",
       "      <td>1040</td>\n",
       "      <td>Lam Kin Kwan</td>\n",
       "      <td>dd09a3b2-0011-4742-95cc-fefc37559c18</td>\n",
       "      <td>39</td>\n",
       "      <td>4:38:35</td>\n",
       "    </tr>\n",
       "    <tr>\n",
       "      <th>22</th>\n",
       "      <td>0.514490</td>\n",
       "      <td>1044</td>\n",
       "      <td>Tang Chi To</td>\n",
       "      <td>22b5ce92-10fa-4035-a7a0-1dfe6ab18084</td>\n",
       "      <td>39</td>\n",
       "      <td>5:36:24</td>\n",
       "    </tr>\n",
       "    <tr>\n",
       "      <th>2</th>\n",
       "      <td>0.503070</td>\n",
       "      <td>1024</td>\n",
       "      <td>sydney van slyke</td>\n",
       "      <td>95b50339-9652-43bf-b741-afec114b03bd</td>\n",
       "      <td>1</td>\n",
       "      <td>0:05:13</td>\n",
       "    </tr>\n",
       "    <tr>\n",
       "      <th>1</th>\n",
       "      <td>0.498080</td>\n",
       "      <td>1023</td>\n",
       "      <td>Cathy DeCampli</td>\n",
       "      <td>8302fd02-2391-48d5-8734-f059d2f726a2</td>\n",
       "      <td>2</td>\n",
       "      <td>0:10:03</td>\n",
       "    </tr>\n",
       "    <tr>\n",
       "      <th>5</th>\n",
       "      <td>0.496620</td>\n",
       "      <td>1027</td>\n",
       "      <td>RON BARZILAY</td>\n",
       "      <td>36fd766e-e461-41a6-89d1-48ec807b3056</td>\n",
       "      <td>1</td>\n",
       "      <td>0:06:02</td>\n",
       "    </tr>\n",
       "    <tr>\n",
       "      <th>31</th>\n",
       "      <td>0.488110</td>\n",
       "      <td>1053</td>\n",
       "      <td>serkan</td>\n",
       "      <td>f405222f-ffeb-4d50-93b9-d726f1f943ce</td>\n",
       "      <td>1</td>\n",
       "      <td>0:06:54</td>\n",
       "    </tr>\n",
       "    <tr>\n",
       "      <th>20</th>\n",
       "      <td>0.485782</td>\n",
       "      <td>1042</td>\n",
       "      <td>Chan Yik Wang</td>\n",
       "      <td>ba94f5d4-c60c-4f11-abca-4ede9ceaa4d2</td>\n",
       "      <td>39</td>\n",
       "      <td>2:16:38</td>\n",
       "    </tr>\n",
       "    <tr>\n",
       "      <th>9</th>\n",
       "      <td>0.476153</td>\n",
       "      <td>1031</td>\n",
       "      <td>Chow King Sam Samantha</td>\n",
       "      <td>061e588a-d17a-4d2c-9031-f04451f5bf26</td>\n",
       "      <td>39</td>\n",
       "      <td>10:09:23</td>\n",
       "    </tr>\n",
       "    <tr>\n",
       "      <th>7</th>\n",
       "      <td>0.470900</td>\n",
       "      <td>1029</td>\n",
       "      <td>Kestrel Testikins</td>\n",
       "      <td>b5d7f03e-d9ea-42de-a4d9-03e8fa884468</td>\n",
       "      <td>10</td>\n",
       "      <td>8 days 18:39:37</td>\n",
       "    </tr>\n",
       "    <tr>\n",
       "      <th>0</th>\n",
       "      <td>0.457193</td>\n",
       "      <td>1022</td>\n",
       "      <td>douglas</td>\n",
       "      <td>efd1759c-353a-4b33-9d37-b40fdebb0239</td>\n",
       "      <td>2</td>\n",
       "      <td>0:13:25</td>\n",
       "    </tr>\n",
       "    <tr>\n",
       "      <th>38</th>\n",
       "      <td>0.438458</td>\n",
       "      <td>1060</td>\n",
       "      <td>Chan Pui Chung</td>\n",
       "      <td>fc69434d-daa2-463a-a023-4d52dfb3a59a</td>\n",
       "      <td>39</td>\n",
       "      <td>6:11:39</td>\n",
       "    </tr>\n",
       "    <tr>\n",
       "      <th>3</th>\n",
       "      <td>0.431890</td>\n",
       "      <td>1025</td>\n",
       "      <td>Sarah Bihms</td>\n",
       "      <td>2daadb97-c643-432e-bd4d-0b1ad471f19d</td>\n",
       "      <td>9</td>\n",
       "      <td>1:25:05</td>\n",
       "    </tr>\n",
       "    <tr>\n",
       "      <th>29</th>\n",
       "      <td>0.418948</td>\n",
       "      <td>1051</td>\n",
       "      <td>HON TING CHI</td>\n",
       "      <td>ba4c7d38-7815-42dd-bd11-235a569d0d81</td>\n",
       "      <td>39</td>\n",
       "      <td>3:07:51</td>\n",
       "    </tr>\n",
       "    <tr>\n",
       "      <th>35</th>\n",
       "      <td>0.416265</td>\n",
       "      <td>1057</td>\n",
       "      <td>QIN, Hanmo</td>\n",
       "      <td>39d48d11-dab1-4bd6-9b83-f06ddf16fdb9</td>\n",
       "      <td>39</td>\n",
       "      <td>2:47:25</td>\n",
       "    </tr>\n",
       "    <tr>\n",
       "      <th>24</th>\n",
       "      <td>0.415185</td>\n",
       "      <td>1046</td>\n",
       "      <td>Li Ka Man</td>\n",
       "      <td>8fdf67a5-e33e-43b0-9ed5-270bf2750240</td>\n",
       "      <td>39</td>\n",
       "      <td>3:17:01</td>\n",
       "    </tr>\n",
       "    <tr>\n",
       "      <th>42</th>\n",
       "      <td>0.414438</td>\n",
       "      <td>1064</td>\n",
       "      <td>laiyiuhin</td>\n",
       "      <td>00ca2d0c-d15b-4178-9531-8fcb3f79a06f</td>\n",
       "      <td>39</td>\n",
       "      <td>4:03:55</td>\n",
       "    </tr>\n",
       "    <tr>\n",
       "      <th>39</th>\n",
       "      <td>0.413973</td>\n",
       "      <td>1061</td>\n",
       "      <td>LEE Yik Yiu</td>\n",
       "      <td>7a92c891-183c-44f1-af6d-c3b125656c7b</td>\n",
       "      <td>39</td>\n",
       "      <td>2:13:43</td>\n",
       "    </tr>\n",
       "    <tr>\n",
       "      <th>21</th>\n",
       "      <td>0.409388</td>\n",
       "      <td>1043</td>\n",
       "      <td>Khemchandani Andrew Lobina</td>\n",
       "      <td>e658863b-22cc-42c7-86f0-15fd4484d9b6</td>\n",
       "      <td>39</td>\n",
       "      <td>3:55:04</td>\n",
       "    </tr>\n",
       "    <tr>\n",
       "      <th>30</th>\n",
       "      <td>0.407842</td>\n",
       "      <td>1052</td>\n",
       "      <td>Ho Yu Ho</td>\n",
       "      <td>af12a79c-5a8d-495d-8979-43ac9822b6a5</td>\n",
       "      <td>39</td>\n",
       "      <td>6:20:09</td>\n",
       "    </tr>\n",
       "    <tr>\n",
       "      <th>28</th>\n",
       "      <td>0.406532</td>\n",
       "      <td>1050</td>\n",
       "      <td>Kelvin Wong</td>\n",
       "      <td>3d5a49af-c4d3-49df-914e-96657669c887</td>\n",
       "      <td>39</td>\n",
       "      <td>1:47:03</td>\n",
       "    </tr>\n",
       "    <tr>\n",
       "      <th>4</th>\n",
       "      <td>0.406405</td>\n",
       "      <td>1026</td>\n",
       "      <td>Anni Kang</td>\n",
       "      <td>a9dbc445-6068-48de-8dcf-99d37e1a7b33</td>\n",
       "      <td>4</td>\n",
       "      <td>0:52:52</td>\n",
       "    </tr>\n",
       "    <tr>\n",
       "      <th>17</th>\n",
       "      <td>0.406385</td>\n",
       "      <td>1039</td>\n",
       "      <td>Chan Ka Kiu</td>\n",
       "      <td>bc6c2cce-b79e-45a7-9767-02484d803dd0</td>\n",
       "      <td>39</td>\n",
       "      <td>8:35:21</td>\n",
       "    </tr>\n",
       "    <tr>\n",
       "      <th>25</th>\n",
       "      <td>0.406148</td>\n",
       "      <td>1047</td>\n",
       "      <td>Lau Hiu Yan</td>\n",
       "      <td>e738693d-cb2c-420c-8689-3f8a3791c207</td>\n",
       "      <td>39</td>\n",
       "      <td>3:06:27</td>\n",
       "    </tr>\n",
       "    <tr>\n",
       "      <th>36</th>\n",
       "      <td>0.403268</td>\n",
       "      <td>1058</td>\n",
       "      <td>SUK Yiji</td>\n",
       "      <td>3e3ea9d9-93a8-4cc7-b9a8-d5d4c12ac899</td>\n",
       "      <td>39</td>\n",
       "      <td>3:05:44</td>\n",
       "    </tr>\n",
       "    <tr>\n",
       "      <th>32</th>\n",
       "      <td>0.401077</td>\n",
       "      <td>1054</td>\n",
       "      <td>Elizabeth Margaret Aston</td>\n",
       "      <td>7661ab8c-702b-4f88-b5fe-06249ef608f2</td>\n",
       "      <td>39</td>\n",
       "      <td>5:39:12</td>\n",
       "    </tr>\n",
       "    <tr>\n",
       "      <th>14</th>\n",
       "      <td>0.395562</td>\n",
       "      <td>1036</td>\n",
       "      <td>Jeff Lu</td>\n",
       "      <td>5cd898a0-c9da-4809-8f0a-844d3896bbbc</td>\n",
       "      <td>39</td>\n",
       "      <td>13:56:20</td>\n",
       "    </tr>\n",
       "    <tr>\n",
       "      <th>40</th>\n",
       "      <td>0.394683</td>\n",
       "      <td>1062</td>\n",
       "      <td>Yui Kondo</td>\n",
       "      <td>281aa121-0107-4a4a-bace-5ef44099728c</td>\n",
       "      <td>39</td>\n",
       "      <td>3:33:57</td>\n",
       "    </tr>\n",
       "    <tr>\n",
       "      <th>16</th>\n",
       "      <td>0.393617</td>\n",
       "      <td>1038</td>\n",
       "      <td>Wong Tung Yu</td>\n",
       "      <td>bfb27782-f723-45ef-95f2-0873a19ef27b</td>\n",
       "      <td>39</td>\n",
       "      <td>18:10:39</td>\n",
       "    </tr>\n",
       "    <tr>\n",
       "      <th>34</th>\n",
       "      <td>0.392193</td>\n",
       "      <td>1056</td>\n",
       "      <td>Tse Man Chun</td>\n",
       "      <td>4e955e0d-9d5a-413a-bc36-bd150041067e</td>\n",
       "      <td>39</td>\n",
       "      <td>2:06:06</td>\n",
       "    </tr>\n",
       "    <tr>\n",
       "      <th>6</th>\n",
       "      <td>0.381243</td>\n",
       "      <td>1028</td>\n",
       "      <td>jeron</td>\n",
       "      <td>c7ba704b-2036-41fa-97ad-b6d48051a375</td>\n",
       "      <td>4</td>\n",
       "      <td>0:20:47</td>\n",
       "    </tr>\n",
       "    <tr>\n",
       "      <th>27</th>\n",
       "      <td>0.378875</td>\n",
       "      <td>1049</td>\n",
       "      <td>Sai Hei Wong</td>\n",
       "      <td>2c41d024-06e3-4b6d-848e-ebdf56fad350</td>\n",
       "      <td>39</td>\n",
       "      <td>2:17:06</td>\n",
       "    </tr>\n",
       "    <tr>\n",
       "      <th>8</th>\n",
       "      <td>0.378383</td>\n",
       "      <td>1030</td>\n",
       "      <td>Yip Kwan Ngai</td>\n",
       "      <td>a2d9d5f8-0275-4405-8984-fa0a4cb85536</td>\n",
       "      <td>39</td>\n",
       "      <td>10:19:00</td>\n",
       "    </tr>\n",
       "    <tr>\n",
       "      <th>13</th>\n",
       "      <td>0.371698</td>\n",
       "      <td>1035</td>\n",
       "      <td>Wong Tsz Hin</td>\n",
       "      <td>59ac8c33-cbcf-4aef-972d-32035dd49d9d</td>\n",
       "      <td>39</td>\n",
       "      <td>12:11:32</td>\n",
       "    </tr>\n",
       "    <tr>\n",
       "      <th>26</th>\n",
       "      <td>0.369360</td>\n",
       "      <td>1048</td>\n",
       "      <td>Tse Yuk Shing</td>\n",
       "      <td>5942c9b4-9c44-4b30-977f-329403eeddc3</td>\n",
       "      <td>39</td>\n",
       "      <td>8:13:33</td>\n",
       "    </tr>\n",
       "    <tr>\n",
       "      <th>41</th>\n",
       "      <td>0.365232</td>\n",
       "      <td>1063</td>\n",
       "      <td>YIP Tsun Ho</td>\n",
       "      <td>f0904d89-b393-4400-9fac-3d64b61b8a97</td>\n",
       "      <td>13</td>\n",
       "      <td>0:45:56</td>\n",
       "    </tr>\n",
       "    <tr>\n",
       "      <th>15</th>\n",
       "      <td>0.362080</td>\n",
       "      <td>1037</td>\n",
       "      <td>Andreas Råskov Madsen</td>\n",
       "      <td>98db9b1e-e220-4d71-96b8-1d4843edb1d1</td>\n",
       "      <td>39</td>\n",
       "      <td>4:27:01</td>\n",
       "    </tr>\n",
       "    <tr>\n",
       "      <th>12</th>\n",
       "      <td>0.354273</td>\n",
       "      <td>1034</td>\n",
       "      <td>Yip Cheuk Hin Jerry</td>\n",
       "      <td>6c3137e0-62fb-44c9-8b29-2a5ec005b8a7</td>\n",
       "      <td>39</td>\n",
       "      <td>1:45:27</td>\n",
       "    </tr>\n",
       "    <tr>\n",
       "      <th>33</th>\n",
       "      <td>0.350530</td>\n",
       "      <td>1055</td>\n",
       "      <td>Cheng Kit Ting Sammi</td>\n",
       "      <td>3044ba34-cb6c-4a21-9b14-372c5e6f8656</td>\n",
       "      <td>39</td>\n",
       "      <td>13:40:59</td>\n",
       "    </tr>\n",
       "    <tr>\n",
       "      <th>11</th>\n",
       "      <td>0.350212</td>\n",
       "      <td>1033</td>\n",
       "      <td>Lo Chin Kiu James</td>\n",
       "      <td>2ff3f3a1-6aa1-49db-ab9c-a1cd9e6fc11e</td>\n",
       "      <td>39</td>\n",
       "      <td>1:06:09</td>\n",
       "    </tr>\n",
       "    <tr>\n",
       "      <th>10</th>\n",
       "      <td>0.334952</td>\n",
       "      <td>1032</td>\n",
       "      <td>Glen</td>\n",
       "      <td>0181bcbd-1b42-4a72-a296-e1ead57d54f5</td>\n",
       "      <td>39</td>\n",
       "      <td>2:03:34</td>\n",
       "    </tr>\n",
       "  </tbody>\n",
       "</table>\n",
       "</div>"
      ],
      "text/plain": [
       "       score ux_contributor_id                    nickname  \\\n",
       "23  0.536542              1045               Joshua Serrao   \n",
       "37  0.524010              1059                Amine KALLEL   \n",
       "19  0.522710              1041                  Mark Welin   \n",
       "18  0.521580              1040                Lam Kin Kwan   \n",
       "22  0.514490              1044                 Tang Chi To   \n",
       "2   0.503070              1024            sydney van slyke   \n",
       "1   0.498080              1023              Cathy DeCampli   \n",
       "5   0.496620              1027                RON BARZILAY   \n",
       "31  0.488110              1053                      serkan   \n",
       "20  0.485782              1042               Chan Yik Wang   \n",
       "9   0.476153              1031      Chow King Sam Samantha   \n",
       "7   0.470900              1029           Kestrel Testikins   \n",
       "0   0.457193              1022                     douglas   \n",
       "38  0.438458              1060              Chan Pui Chung   \n",
       "3   0.431890              1025                 Sarah Bihms   \n",
       "29  0.418948              1051                HON TING CHI   \n",
       "35  0.416265              1057                  QIN, Hanmo   \n",
       "24  0.415185              1046                   Li Ka Man   \n",
       "42  0.414438              1064                   laiyiuhin   \n",
       "39  0.413973              1061                 LEE Yik Yiu   \n",
       "21  0.409388              1043  Khemchandani Andrew Lobina   \n",
       "30  0.407842              1052                    Ho Yu Ho   \n",
       "28  0.406532              1050                 Kelvin Wong   \n",
       "4   0.406405              1026                   Anni Kang   \n",
       "17  0.406385              1039                 Chan Ka Kiu   \n",
       "25  0.406148              1047                 Lau Hiu Yan   \n",
       "36  0.403268              1058                    SUK Yiji   \n",
       "32  0.401077              1054    Elizabeth Margaret Aston   \n",
       "14  0.395562              1036                     Jeff Lu   \n",
       "40  0.394683              1062                   Yui Kondo   \n",
       "16  0.393617              1038                Wong Tung Yu   \n",
       "34  0.392193              1056                Tse Man Chun   \n",
       "6   0.381243              1028                       jeron   \n",
       "27  0.378875              1049                Sai Hei Wong   \n",
       "8   0.378383              1030               Yip Kwan Ngai   \n",
       "13  0.371698              1035                Wong Tsz Hin   \n",
       "26  0.369360              1048               Tse Yuk Shing   \n",
       "41  0.365232              1063                 YIP Tsun Ho   \n",
       "15  0.362080              1037       Andreas Råskov Madsen   \n",
       "12  0.354273              1034         Yip Cheuk Hin Jerry   \n",
       "33  0.350530              1055        Cheng Kit Ting Sammi   \n",
       "11  0.350212              1033           Lo Chin Kiu James   \n",
       "10  0.334952              1032                        Glen   \n",
       "\n",
       "                        contributor_uuid retrieved_task_runs   total_worktime  \n",
       "23  d57b44db-2dab-416a-81cf-90ace481679c                  39          3:06:31  \n",
       "37  946bd48a-999a-4700-9553-b21a92ac2acc                  10          0:48:35  \n",
       "19  9b7e7266-2f9f-4947-95de-507121b81625                  39          7:08:28  \n",
       "18  dd09a3b2-0011-4742-95cc-fefc37559c18                  39          4:38:35  \n",
       "22  22b5ce92-10fa-4035-a7a0-1dfe6ab18084                  39          5:36:24  \n",
       "2   95b50339-9652-43bf-b741-afec114b03bd                   1          0:05:13  \n",
       "1   8302fd02-2391-48d5-8734-f059d2f726a2                   2          0:10:03  \n",
       "5   36fd766e-e461-41a6-89d1-48ec807b3056                   1          0:06:02  \n",
       "31  f405222f-ffeb-4d50-93b9-d726f1f943ce                   1          0:06:54  \n",
       "20  ba94f5d4-c60c-4f11-abca-4ede9ceaa4d2                  39          2:16:38  \n",
       "9   061e588a-d17a-4d2c-9031-f04451f5bf26                  39         10:09:23  \n",
       "7   b5d7f03e-d9ea-42de-a4d9-03e8fa884468                  10  8 days 18:39:37  \n",
       "0   efd1759c-353a-4b33-9d37-b40fdebb0239                   2          0:13:25  \n",
       "38  fc69434d-daa2-463a-a023-4d52dfb3a59a                  39          6:11:39  \n",
       "3   2daadb97-c643-432e-bd4d-0b1ad471f19d                   9          1:25:05  \n",
       "29  ba4c7d38-7815-42dd-bd11-235a569d0d81                  39          3:07:51  \n",
       "35  39d48d11-dab1-4bd6-9b83-f06ddf16fdb9                  39          2:47:25  \n",
       "24  8fdf67a5-e33e-43b0-9ed5-270bf2750240                  39          3:17:01  \n",
       "42  00ca2d0c-d15b-4178-9531-8fcb3f79a06f                  39          4:03:55  \n",
       "39  7a92c891-183c-44f1-af6d-c3b125656c7b                  39          2:13:43  \n",
       "21  e658863b-22cc-42c7-86f0-15fd4484d9b6                  39          3:55:04  \n",
       "30  af12a79c-5a8d-495d-8979-43ac9822b6a5                  39          6:20:09  \n",
       "28  3d5a49af-c4d3-49df-914e-96657669c887                  39          1:47:03  \n",
       "4   a9dbc445-6068-48de-8dcf-99d37e1a7b33                   4          0:52:52  \n",
       "17  bc6c2cce-b79e-45a7-9767-02484d803dd0                  39          8:35:21  \n",
       "25  e738693d-cb2c-420c-8689-3f8a3791c207                  39          3:06:27  \n",
       "36  3e3ea9d9-93a8-4cc7-b9a8-d5d4c12ac899                  39          3:05:44  \n",
       "32  7661ab8c-702b-4f88-b5fe-06249ef608f2                  39          5:39:12  \n",
       "14  5cd898a0-c9da-4809-8f0a-844d3896bbbc                  39         13:56:20  \n",
       "40  281aa121-0107-4a4a-bace-5ef44099728c                  39          3:33:57  \n",
       "16  bfb27782-f723-45ef-95f2-0873a19ef27b                  39         18:10:39  \n",
       "34  4e955e0d-9d5a-413a-bc36-bd150041067e                  39          2:06:06  \n",
       "6   c7ba704b-2036-41fa-97ad-b6d48051a375                   4          0:20:47  \n",
       "27  2c41d024-06e3-4b6d-848e-ebdf56fad350                  39          2:17:06  \n",
       "8   a2d9d5f8-0275-4405-8984-fa0a4cb85536                  39         10:19:00  \n",
       "13  59ac8c33-cbcf-4aef-972d-32035dd49d9d                  39         12:11:32  \n",
       "26  5942c9b4-9c44-4b30-977f-329403eeddc3                  39          8:13:33  \n",
       "41  f0904d89-b393-4400-9fac-3d64b61b8a97                  13          0:45:56  \n",
       "15  98db9b1e-e220-4d71-96b8-1d4843edb1d1                  39          4:27:01  \n",
       "12  6c3137e0-62fb-44c9-8b29-2a5ec005b8a7                  39          1:45:27  \n",
       "33  3044ba34-cb6c-4a21-9b14-372c5e6f8656                  39         13:40:59  \n",
       "11  2ff3f3a1-6aa1-49db-ab9c-a1cd9e6fc11e                  39          1:06:09  \n",
       "10  0181bcbd-1b42-4a72-a296-e1ead57d54f5                  39          2:03:34  "
      ]
     },
     "execution_count": 85,
     "metadata": {},
     "output_type": "execute_result"
    }
   ],
   "source": [
    "participants = load_participants_list('./evidence_eric/Covid_Source_Users.csv')\n",
    "demo_users_ucs = get_whitelisted_users(participants)\n",
    "demo_users_ucs"
   ]
  },
  {
   "cell_type": "code",
   "execution_count": 77,
   "id": "5e0659d7-0e6a-4001-a0f9-621ea339e546",
   "metadata": {},
   "outputs": [
    {
     "data": {
      "text/plain": [
       "<AxesSubplot:>"
      ]
     },
     "execution_count": 77,
     "metadata": {},
     "output_type": "execute_result"
    },
    {
     "data": {
      "image/png": "[encoded data removed]",
      "text/plain": [
       "<Figure size 432x288 with 1 Axes>"
      ]
     },
     "metadata": {
      "needs_background": "light"
     },
     "output_type": "display_data"
    }
   ],
   "source": [
    "ucs = table_to_df('ucs').astype({\"score\": float}).groupby(['uuid']).mean()\n",
    "ucs['score'].hist()"
   ]
  },
  {
   "cell_type": "code",
   "execution_count": 76,
   "id": "1ad52184-fa29-49a3-81fb-e0931f34477a",
   "metadata": {},
   "outputs": [
    {
     "data": {
      "text/plain": [
       "<AxesSubplot:>"
      ]
     },
     "execution_count": 76,
     "metadata": {},
     "output_type": "execute_result"
    },
    {
     "data": {
      "image/png": "[encoded data removed]",
      "text/plain": [
       "<Figure size 432x288 with 1 Axes>"
      ]
     },
     "metadata": {
      "needs_background": "light"
     },
     "output_type": "display_data"
    }
   ],
   "source": [
    "demo_users_ucs['score'].hist()"
   ]
  },
  {
   "cell_type": "code",
   "execution_count": 80,
   "id": "f144d32b-beb8-4dda-8202-21edb551b543",
   "metadata": {},
   "outputs": [
    {
     "data": {
      "text/plain": [
       "a2d9d5f8-0275-4405-8984-fa0a4cb85536    6\n",
       "fc69434d-daa2-463a-a023-4d52dfb3a59a    6\n",
       "39d48d11-dab1-4bd6-9b83-f06ddf16fdb9    6\n",
       "8ccc26cc-9ffe-46e4-b353-11c099d97545    6\n",
       "bd786026-bad5-4fa8-9a3a-38ca03a16412    6\n",
       "                                       ..\n",
       "b532d210-26fd-47a1-8bbd-13858ea4314e    1\n",
       "95b50339-9652-43bf-b741-afec114b03bd    1\n",
       "2fd301a3-7efe-4e38-a40a-7645644d3a73    1\n",
       "7cf9db26-772e-4733-af82-963e15eb5a64    1\n",
       "4aa478e7-4eb5-4ced-ab95-54c1af85f28f    1\n",
       "Name: uuid, Length: 760, dtype: int64"
      ]
     },
     "execution_count": 80,
     "metadata": {},
     "output_type": "execute_result"
    }
   ],
   "source": [
    "test_duplicate_ucs = table_to_df('ucs')\n",
    "test_duplicate_ucs['uuid'].value_counts()"
   ]
  },
  {
   "cell_type": "markdown",
   "id": "d0588e3a-5a94-4afb-b944-991a610cfd78",
   "metadata": {},
   "source": [
    "#### Step 4) Download the dataframe of whitelisted ucs scores as csv locally"
   ]
  },
  {
   "cell_type": "code",
   "execution_count": 86,
   "id": "ef266910-4451-4d7b-9375-d03d101c667e",
   "metadata": {},
   "outputs": [],
   "source": [
    "demo_users_ucs.to_csv('./evidence_eric/demo_users_ucs_may8.csv', index=False)"
   ]
  }
 ],
 "metadata": {
  "kernelspec": {
   "display_name": "Python 3",
   "language": "python",
   "name": "python3"
  },
  "language_info": {
   "codemirror_mode": {
    "name": "ipython",
    "version": 3
   },
   "file_extension": ".py",
   "mimetype": "text/x-python",
   "name": "python",
   "nbconvert_exporter": "python",
   "pygments_lexer": "ipython3",
   "version": "3.8.8"
  }
 },
 "nbformat": 4,
 "nbformat_minor": 5
}
